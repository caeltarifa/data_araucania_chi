{
  "nbformat": 4,
  "nbformat_minor": 0,
  "metadata": {
    "colab": {
      "provenance": [],
      "toc_visible": true,
      "authorship_tag": "ABX9TyNS9nZg0AR1B0v8jPz86T/l"
    },
    "kernelspec": {
      "name": "python3",
      "display_name": "Python 3"
    },
    "language_info": {
      "name": "python"
    }
  },
  "cells": [
    {
      "cell_type": "markdown",
      "source": [
        "# A. Polar dataframe"
      ],
      "metadata": {
        "id": "iYuGcNa21Sut"
      }
    },
    {
      "cell_type": "code",
      "source": [
        "!pip install polars\n",
        "!pip install xlsx2csv\n",
        "#polars-0.15.8\n",
        "#xlsx2csv-0.8.0"
      ],
      "metadata": {
        "id": "i_2UrXxNTXaA"
      },
      "execution_count": null,
      "outputs": []
    },
    {
      "cell_type": "code",
      "source": [
        "import polars as pl\n",
        "excel_file = \"./existencias-colmenas.xlsx\"\n",
        "a = pl.read_excel(\n",
        "      file=excel_file, \n",
        "      sheet_id=0, \n",
        "      xlsx2csv_options = {\n",
        "          \"linedelimitator\":\"\\n\"\n",
        "      }, \n",
        "    )\n",
        "\n",
        "print(a)"
      ],
      "metadata": {
        "colab": {
          "base_uri": "https://localhost:8080/"
        },
        "id": "EarbpzbFS4QU",
        "outputId": "2500df1b-c57b-4a4f-966d-fe466a6d7d2b"
      },
      "execution_count": null,
      "outputs": [
        {
          "output_type": "stream",
          "name": "stdout",
          "text": [
            "{'13': shape: (28, 7)\n",
            "┌──────┬───────────────┬───────────────┬──────────────┬──────────────┬──────────────┬──────────────┐\n",
            "│      ┆ 13.  Número   ┆ _duplicated_0 ┆ _duplicated_ ┆ _duplicated_ ┆ _duplicated_ ┆ _duplicated_ │\n",
            "│ ---  ┆ de Unidades   ┆ ---           ┆ 1            ┆ 2            ┆ 3            ┆ 4            │\n",
            "│ str  ┆ Producti...   ┆ str           ┆ ---          ┆ ---          ┆ ---          ┆ ---          │\n",
            "│      ┆ ---           ┆               ┆ str          ┆ str          ┆ str          ┆ str          │\n",
            "│      ┆ str           ┆               ┆              ┆              ┆              ┆              │\n",
            "╞══════╪═══════════════╪═══════════════╪══════════════╪══════════════╪══════════════╪══════════════╡\n",
            "│ null ┆ null          ┆ null          ┆ null         ┆ Tipo de      ┆ null         ┆ null         │\n",
            "│      ┆               ┆               ┆              ┆ Colmenas     ┆              ┆              │\n",
            "├╌╌╌╌╌╌┼╌╌╌╌╌╌╌╌╌╌╌╌╌╌╌┼╌╌╌╌╌╌╌╌╌╌╌╌╌╌╌┼╌╌╌╌╌╌╌╌╌╌╌╌╌╌┼╌╌╌╌╌╌╌╌╌╌╌╌╌╌┼╌╌╌╌╌╌╌╌╌╌╌╌╌╌┼╌╌╌╌╌╌╌╌╌╌╌╌╌╌┤\n",
            "│ null ┆ Total         ┆ Total         ┆ null         ┆ Colmenas     ┆ null         ┆ Colmenas     │\n",
            "│      ┆ Nacional -    ┆               ┆              ┆ Modernas 5   ┆              ┆ Rústicas 6   │\n",
            "│      ┆ Región        ┆               ┆              ┆              ┆              ┆              │\n",
            "├╌╌╌╌╌╌┼╌╌╌╌╌╌╌╌╌╌╌╌╌╌╌┼╌╌╌╌╌╌╌╌╌╌╌╌╌╌╌┼╌╌╌╌╌╌╌╌╌╌╌╌╌╌┼╌╌╌╌╌╌╌╌╌╌╌╌╌╌┼╌╌╌╌╌╌╌╌╌╌╌╌╌╌┼╌╌╌╌╌╌╌╌╌╌╌╌╌╌┤\n",
            "│ null ┆ null          ┆ Número de     ┆ Número de    ┆ Número de    ┆ Número de    ┆ Número de    │\n",
            "│      ┆               ┆ UPA3,4        ┆ colmenas     ┆ UPA4         ┆ colmenas     ┆ UPA4         │\n",
            "├╌╌╌╌╌╌┼╌╌╌╌╌╌╌╌╌╌╌╌╌╌╌┼╌╌╌╌╌╌╌╌╌╌╌╌╌╌╌┼╌╌╌╌╌╌╌╌╌╌╌╌╌╌┼╌╌╌╌╌╌╌╌╌╌╌╌╌╌┼╌╌╌╌╌╌╌╌╌╌╌╌╌╌┼╌╌╌╌╌╌╌╌╌╌╌╌╌╌┤\n",
            "│ null ┆ Total         ┆ 5909          ┆ 333037       ┆ 4997         ┆ 306758       ┆ 995          │\n",
            "│      ┆ Nacional      ┆               ┆              ┆              ┆              ┆              │\n",
            "├╌╌╌╌╌╌┼╌╌╌╌╌╌╌╌╌╌╌╌╌╌╌┼╌╌╌╌╌╌╌╌╌╌╌╌╌╌╌┼╌╌╌╌╌╌╌╌╌╌╌╌╌╌┼╌╌╌╌╌╌╌╌╌╌╌╌╌╌┼╌╌╌╌╌╌╌╌╌╌╌╌╌╌┼╌╌╌╌╌╌╌╌╌╌╌╌╌╌┤\n",
            "│ ...  ┆ ...           ┆ ...           ┆ ...          ┆ ...          ┆ ...          ┆ ...          │\n",
            "├╌╌╌╌╌╌┼╌╌╌╌╌╌╌╌╌╌╌╌╌╌╌┼╌╌╌╌╌╌╌╌╌╌╌╌╌╌╌┼╌╌╌╌╌╌╌╌╌╌╌╌╌╌┼╌╌╌╌╌╌╌╌╌╌╌╌╌╌┼╌╌╌╌╌╌╌╌╌╌╌╌╌╌┼╌╌╌╌╌╌╌╌╌╌╌╌╌╌┤\n",
            "│ null ┆ 3. La         ┆ null          ┆ null         ┆ null         ┆ null         ┆ null         │\n",
            "│      ┆ sumatoria del ┆               ┆              ┆              ┆              ┆              │\n",
            "│      ┆ número de     ┆               ┆              ┆              ┆              ┆              │\n",
            "│      ┆ UP...         ┆               ┆              ┆              ┆              ┆              │\n",
            "├╌╌╌╌╌╌┼╌╌╌╌╌╌╌╌╌╌╌╌╌╌╌┼╌╌╌╌╌╌╌╌╌╌╌╌╌╌╌┼╌╌╌╌╌╌╌╌╌╌╌╌╌╌┼╌╌╌╌╌╌╌╌╌╌╌╌╌╌┼╌╌╌╌╌╌╌╌╌╌╌╌╌╌┼╌╌╌╌╌╌╌╌╌╌╌╌╌╌┤\n",
            "│ null ┆ 4. En el      ┆ null          ┆ null         ┆ null         ┆ null         ┆ null         │\n",
            "│      ┆ marco del     ┆               ┆              ┆              ┆              ┆              │\n",
            "│      ┆ proceso de    ┆               ┆              ┆              ┆              ┆              │\n",
            "│      ┆ co...         ┆               ┆              ┆              ┆              ┆              │\n",
            "├╌╌╌╌╌╌┼╌╌╌╌╌╌╌╌╌╌╌╌╌╌╌┼╌╌╌╌╌╌╌╌╌╌╌╌╌╌╌┼╌╌╌╌╌╌╌╌╌╌╌╌╌╌┼╌╌╌╌╌╌╌╌╌╌╌╌╌╌┼╌╌╌╌╌╌╌╌╌╌╌╌╌╌┼╌╌╌╌╌╌╌╌╌╌╌╌╌╌┤\n",
            "│ null ┆ 5. Colmenas   ┆ null          ┆ null         ┆ null         ┆ null         ┆ null         │\n",
            "│      ┆ modernas: son ┆               ┆              ┆              ┆              ┆              │\n",
            "│      ┆ aquell...     ┆               ┆              ┆              ┆              ┆              │\n",
            "├╌╌╌╌╌╌┼╌╌╌╌╌╌╌╌╌╌╌╌╌╌╌┼╌╌╌╌╌╌╌╌╌╌╌╌╌╌╌┼╌╌╌╌╌╌╌╌╌╌╌╌╌╌┼╌╌╌╌╌╌╌╌╌╌╌╌╌╌┼╌╌╌╌╌╌╌╌╌╌╌╌╌╌┼╌╌╌╌╌╌╌╌╌╌╌╌╌╌┤\n",
            "│ null ┆ 6. Colmenas   ┆ null          ┆ null         ┆ null         ┆ null         ┆ null         │\n",
            "│      ┆ rústicas: son ┆               ┆              ┆              ┆              ┆              │\n",
            "│      ┆ aquell...     ┆               ┆              ┆              ┆              ┆              │\n",
            "└──────┴───────────────┴───────────────┴──────────────┴──────────────┴──────────────┴──────────────┘}\n"
          ]
        }
      ]
    },
    {
      "cell_type": "markdown",
      "source": [
        "## References\n",
        "\n",
        "> [xlsx2csv](https://github.com/dilshod/xlsx2csv)"
      ],
      "metadata": {
        "id": "gesep4rh2vRZ"
      }
    },
    {
      "cell_type": "markdown",
      "source": [
        "# C. Pandas dataframe"
      ],
      "metadata": {
        "id": "sL1sf8KT1pw5"
      }
    },
    {
      "cell_type": "code",
      "source": [
        "# import polars as pl\n",
        "import pandas as pd\n",
        "\n",
        "excel_file = \"./existencias-colmenas.xlsx\"\n",
        "\n",
        "pandas_excel = pd.read_excel(excel_file,sheet_name=0, skiprows=2, )\n",
        "print(pandas_excel.head())"
      ],
      "metadata": {
        "colab": {
          "base_uri": "https://localhost:8080/"
        },
        "id": "zGHWj3nUYLAZ",
        "outputId": "07a62c2e-585b-493a-98c1-f605a5c7470c"
      },
      "execution_count": null,
      "outputs": [
        {
          "output_type": "stream",
          "name": "stdout",
          "text": [
            "   Unnamed: 0                    Unnamed: 1        Unnamed: 2  \\\n",
            "0         NaN                           NaN               NaN   \n",
            "1         NaN       Total Nacional - Región             Total   \n",
            "2         NaN                           NaN  Número de UPA3,4   \n",
            "3         NaN                Total Nacional              5909   \n",
            "4         NaN  Región de Arica y Parinacota                 6   \n",
            "\n",
            "           Unnamed: 3           Unnamed: 4          Unnamed: 5  \\\n",
            "0                 NaN     Tipo de Colmenas                 NaN   \n",
            "1                 NaN  Colmenas Modernas 5                 NaN   \n",
            "2  Número de colmenas       Número de UPA4  Número de colmenas   \n",
            "3              333037                 4997              306758   \n",
            "4                  53                    5                  49   \n",
            "\n",
            "            Unnamed: 6          Unnamed: 7  \n",
            "0                  NaN                 NaN  \n",
            "1  Colmenas Rústicas 6                 NaN  \n",
            "2       Número de UPA4  Número de colmenas  \n",
            "3                  995               26279  \n",
            "4                    2                   4  \n"
          ]
        }
      ]
    },
    {
      "cell_type": "markdown",
      "source": [
        "# B. PySpark dataframe"
      ],
      "metadata": {
        "id": "FiEOn7sp1oPA"
      }
    },
    {
      "cell_type": "code",
      "source": [
        "!pip install pyspark\n",
        "!pip install findspark\n",
        "!pip install unidecode"
      ],
      "metadata": {
        "colab": {
          "base_uri": "https://localhost:8080/"
        },
        "id": "Lxei0oli5ZE3",
        "outputId": "4d955d4a-b76e-4a80-caf5-ab3e339fa430"
      },
      "execution_count": 34,
      "outputs": [
        {
          "output_type": "stream",
          "name": "stdout",
          "text": [
            "Looking in indexes: https://pypi.org/simple, https://us-python.pkg.dev/colab-wheels/public/simple/\n",
            "Requirement already satisfied: pyspark in /usr/local/lib/python3.8/dist-packages (3.3.1)\n",
            "Requirement already satisfied: py4j==0.10.9.5 in /usr/local/lib/python3.8/dist-packages (from pyspark) (0.10.9.5)\n",
            "Looking in indexes: https://pypi.org/simple, https://us-python.pkg.dev/colab-wheels/public/simple/\n",
            "Requirement already satisfied: findspark in /usr/local/lib/python3.8/dist-packages (2.0.1)\n"
          ]
        }
      ]
    },
    {
      "cell_type": "markdown",
      "source": [
        "## Checking informatino session"
      ],
      "metadata": {
        "id": "z2CbVpvj-nT1"
      }
    },
    {
      "cell_type": "code",
      "source": [
        "import pandas as pd\n",
        "import pyspark\n",
        "\n",
        "import findspark\n",
        "findspark.init()"
      ],
      "metadata": {
        "id": "LFcLG0zhIFoz"
      },
      "execution_count": 35,
      "outputs": []
    },
    {
      "cell_type": "code",
      "source": [
        "# Import SparkSession\n",
        "from pyspark.sql import SparkSession\n",
        "# Create a Spark Session\n",
        "spark = SparkSession.builder.master(\"local[*]\").getOrCreate()\n",
        "# Check Spark Session Information\n",
        "print(spark)"
      ],
      "metadata": {
        "colab": {
          "base_uri": "https://localhost:8080/"
        },
        "id": "xm-zCwWR-sWy",
        "outputId": "4100b315-d840-412f-df85-cec4ae1cba8d"
      },
      "execution_count": 36,
      "outputs": [
        {
          "output_type": "stream",
          "name": "stdout",
          "text": [
            "<pyspark.sql.session.SparkSession object at 0x7efe59523eb0>\n"
          ]
        }
      ]
    },
    {
      "cell_type": "code",
      "source": [
        "from pyspark import SparkContext\n",
        "from pyspark.sql import SQLContext \n",
        "\n",
        "s_context = SparkContext.getOrCreate()\n",
        "#s_context = SparkContext(\"local\", \"existencia_colmenas\")\n",
        "sql = SQLContext(s_context)"
      ],
      "metadata": {
        "id": "bZe0cFrR1yKE"
      },
      "execution_count": 37,
      "outputs": []
    },
    {
      "cell_type": "code",
      "source": [
        "df = pd.read_excel(\"./existencias-colmenas.xlsx\", sheet_name=0)\n",
        "# Standardising all data types from pandas to String for spark\n",
        "df = df.astype(str)\n",
        "\n",
        "df_spark = sql.createDataFrame(df)\n"
      ],
      "metadata": {
        "id": "AvXa4XuP5O2c"
      },
      "execution_count": 38,
      "outputs": []
    },
    {
      "cell_type": "code",
      "source": [
        "df_spark.show()"
      ],
      "metadata": {
        "colab": {
          "base_uri": "https://localhost:8080/"
        },
        "id": "Lmjlh7sS_gnm",
        "outputId": "634a64b0-85db-4b71-e1c4-d8f0d1de69a2"
      },
      "execution_count": 39,
      "outputs": [
        {
          "output_type": "stream",
          "name": "stdout",
          "text": [
            "+----------+--------------------+----------------+------------------+-------------------+------------------+-------------------+------------------+\n",
            "|Unnamed: 0|          Unnamed: 1|      Unnamed: 2|        Unnamed: 3|         Unnamed: 4|        Unnamed: 5|         Unnamed: 6|        Unnamed: 7|\n",
            "+----------+--------------------+----------------+------------------+-------------------+------------------+-------------------+------------------+\n",
            "|       nan|13.  Número de Un...|             nan|               nan|                nan|               nan|                nan|               nan|\n",
            "|       nan|                 nan|             nan|               nan|                nan|               nan|                nan|               nan|\n",
            "|       nan|                 nan|             nan|               nan|   Tipo de Colmenas|               nan|                nan|               nan|\n",
            "|       nan|Total Nacional - ...|           Total|               nan|Colmenas Modernas 5|               nan|Colmenas Rústicas 6|               nan|\n",
            "|       nan|                 nan|Número de UPA3,4|Número de colmenas|     Número de UPA4|Número de colmenas|     Número de UPA4|Número de colmenas|\n",
            "|       nan|      Total Nacional|            5909|            333037|               4997|            306758|                995|             26279|\n",
            "|       nan|Región de Arica y...|               6|                53|                  5|                49|                  2|                 4|\n",
            "|       nan| Región de Tarapacá |               8|                48|                  4|                18|                  4|                30|\n",
            "|       nan|Región de Antofag...|               7|                25|                  5|                21|                  2|                 4|\n",
            "|       nan|   Región de Atacama|              30|               359|                 24|               332|                  6|                27|\n",
            "|       nan|  Región de Coquimbo|             297|              6448|                230|              5921|                 70|               527|\n",
            "|       nan|Región de Valparaíso|             186|             24658|                165|             22541|                 22|              2117|\n",
            "|       nan|Región Metropolit...|             209|             29572|                188|             29298|                 23|               274|\n",
            "|       nan|Región del Libert...|             387|             50291|                353|             48967|                 34|              1324|\n",
            "|       nan|    Región del Maule|             686|             63887|                597|             53961|                 95|              9926|\n",
            "|       nan|     Región de Ñuble|             444|             38936|                386|             36789|                 61|              2147|\n",
            "|       nan|  Región del Biobío |             947|             36048|                824|             33951|                130|              2097|\n",
            "|       nan|Región de La Arau...|            1690|             38489|               1402|             34933|                319|              3556|\n",
            "|       nan|  Región de Los Ríos|             456|             16781|                398|             15987|                 65|               794|\n",
            "|       nan| Región de Los Lagos|             536|             27070|                402|             23666|                155|              3404|\n",
            "+----------+--------------------+----------------+------------------+-------------------+------------------+-------------------+------------------+\n",
            "only showing top 20 rows\n",
            "\n"
          ]
        }
      ]
    },
    {
      "cell_type": "code",
      "source": [
        "df_spark.printSchema()"
      ],
      "metadata": {
        "colab": {
          "base_uri": "https://localhost:8080/"
        },
        "id": "Sl-htgPV6H01",
        "outputId": "d0aee9cd-c27d-4431-a918-58a38cf89661"
      },
      "execution_count": 40,
      "outputs": [
        {
          "output_type": "stream",
          "name": "stdout",
          "text": [
            "root\n",
            " |-- Unnamed: 0: string (nullable = true)\n",
            " |-- Unnamed: 1: string (nullable = true)\n",
            " |-- Unnamed: 2: string (nullable = true)\n",
            " |-- Unnamed: 3: string (nullable = true)\n",
            " |-- Unnamed: 4: string (nullable = true)\n",
            " |-- Unnamed: 5: string (nullable = true)\n",
            " |-- Unnamed: 6: string (nullable = true)\n",
            " |-- Unnamed: 7: string (nullable = true)\n",
            "\n"
          ]
        }
      ]
    },
    {
      "cell_type": "code",
      "source": [
        "df_spark.count()"
      ],
      "metadata": {
        "colab": {
          "base_uri": "https://localhost:8080/"
        },
        "id": "2iAyNrEQ6cdY",
        "outputId": "d804d86b-e726-4400-a32f-5ae56e27be1e"
      },
      "execution_count": 41,
      "outputs": [
        {
          "output_type": "execute_result",
          "data": {
            "text/plain": [
              "31"
            ]
          },
          "metadata": {},
          "execution_count": 41
        }
      ]
    },
    {
      "cell_type": "code",
      "source": [
        "df_spark.select(\"Unnamed: 0\", \"Unnamed: 1\", \"Unnamed: 2\").show(4)"
      ],
      "metadata": {
        "colab": {
          "base_uri": "https://localhost:8080/"
        },
        "id": "8NQwLM8Z6jb2",
        "outputId": "ead9ee83-1923-44a4-e8af-935ede11e0d9"
      },
      "execution_count": 42,
      "outputs": [
        {
          "output_type": "stream",
          "name": "stdout",
          "text": [
            "+----------+--------------------+----------+\n",
            "|Unnamed: 0|          Unnamed: 1|Unnamed: 2|\n",
            "+----------+--------------------+----------+\n",
            "|       nan|13.  Número de Un...|       nan|\n",
            "|       nan|                 nan|       nan|\n",
            "|       nan|                 nan|       nan|\n",
            "|       nan|Total Nacional - ...|     Total|\n",
            "+----------+--------------------+----------+\n",
            "only showing top 4 rows\n",
            "\n"
          ]
        }
      ]
    },
    {
      "cell_type": "code",
      "source": [
        "# Adding SQL functions to count empty rows\n",
        "from pyspark.sql import functions as F\n",
        "\n",
        "# Counting nan Rows\n",
        "df_spark.select(\n",
        "    [\n",
        "        F.count\n",
        "          (\n",
        "              F.when(\n",
        "                  F.isnan(c), c\n",
        "              )\n",
        "          ).alias(c) \n",
        "        for c in df_spark.columns\n",
        "     ]\n",
        "  ).show()\n",
        "F.when"
      ],
      "metadata": {
        "colab": {
          "base_uri": "https://localhost:8080/"
        },
        "id": "LPo7JgpC7Ms4",
        "outputId": "c5166d69-c857-441c-da76-6797f8fdc665"
      },
      "execution_count": 43,
      "outputs": [
        {
          "output_type": "stream",
          "name": "stdout",
          "text": [
            "+----------+----------+----------+----------+----------+----------+----------+----------+\n",
            "|Unnamed: 0|Unnamed: 1|Unnamed: 2|Unnamed: 3|Unnamed: 4|Unnamed: 5|Unnamed: 6|Unnamed: 7|\n",
            "+----------+----------+----------+----------+----------+----------+----------+----------+\n",
            "|        31|         4|        12|        13|        11|        13|        12|        13|\n",
            "+----------+----------+----------+----------+----------+----------+----------+----------+\n",
            "\n"
          ]
        },
        {
          "output_type": "execute_result",
          "data": {
            "text/plain": [
              "<function pyspark.sql.functions.when(condition: pyspark.sql.column.Column, value: Any) -> pyspark.sql.column.Column>"
            ]
          },
          "metadata": {},
          "execution_count": 43
        }
      ]
    },
    {
      "cell_type": "code",
      "source": [
        "# Replace nan with Null\n",
        "df_spark = df_spark.replace('nan', None)\n",
        "df_spark.show()"
      ],
      "metadata": {
        "colab": {
          "base_uri": "https://localhost:8080/"
        },
        "id": "6GpZpmvsEykG",
        "outputId": "5fea01c1-484e-4170-c148-2ec74d3fa237"
      },
      "execution_count": 44,
      "outputs": [
        {
          "output_type": "stream",
          "name": "stdout",
          "text": [
            "+----------+--------------------+----------------+------------------+-------------------+------------------+-------------------+------------------+\n",
            "|Unnamed: 0|          Unnamed: 1|      Unnamed: 2|        Unnamed: 3|         Unnamed: 4|        Unnamed: 5|         Unnamed: 6|        Unnamed: 7|\n",
            "+----------+--------------------+----------------+------------------+-------------------+------------------+-------------------+------------------+\n",
            "|      null|13.  Número de Un...|            null|              null|               null|              null|               null|              null|\n",
            "|      null|                null|            null|              null|               null|              null|               null|              null|\n",
            "|      null|                null|            null|              null|   Tipo de Colmenas|              null|               null|              null|\n",
            "|      null|Total Nacional - ...|           Total|              null|Colmenas Modernas 5|              null|Colmenas Rústicas 6|              null|\n",
            "|      null|                null|Número de UPA3,4|Número de colmenas|     Número de UPA4|Número de colmenas|     Número de UPA4|Número de colmenas|\n",
            "|      null|      Total Nacional|            5909|            333037|               4997|            306758|                995|             26279|\n",
            "|      null|Región de Arica y...|               6|                53|                  5|                49|                  2|                 4|\n",
            "|      null| Región de Tarapacá |               8|                48|                  4|                18|                  4|                30|\n",
            "|      null|Región de Antofag...|               7|                25|                  5|                21|                  2|                 4|\n",
            "|      null|   Región de Atacama|              30|               359|                 24|               332|                  6|                27|\n",
            "|      null|  Región de Coquimbo|             297|              6448|                230|              5921|                 70|               527|\n",
            "|      null|Región de Valparaíso|             186|             24658|                165|             22541|                 22|              2117|\n",
            "|      null|Región Metropolit...|             209|             29572|                188|             29298|                 23|               274|\n",
            "|      null|Región del Libert...|             387|             50291|                353|             48967|                 34|              1324|\n",
            "|      null|    Región del Maule|             686|             63887|                597|             53961|                 95|              9926|\n",
            "|      null|     Región de Ñuble|             444|             38936|                386|             36789|                 61|              2147|\n",
            "|      null|  Región del Biobío |             947|             36048|                824|             33951|                130|              2097|\n",
            "|      null|Región de La Arau...|            1690|             38489|               1402|             34933|                319|              3556|\n",
            "|      null|  Región de Los Ríos|             456|             16781|                398|             15987|                 65|               794|\n",
            "|      null| Región de Los Lagos|             536|             27070|                402|             23666|                155|              3404|\n",
            "+----------+--------------------+----------------+------------------+-------------------+------------------+-------------------+------------------+\n",
            "only showing top 20 rows\n",
            "\n"
          ]
        }
      ]
    },
    {
      "cell_type": "code",
      "source": [
        "# Drop rows with null values on selected columns\n",
        "\n",
        "columns = df_spark.columns\n",
        "\n",
        "new_df = df_spark.na.drop(\n",
        "              subset=columns[2:],how=\"all\"\n",
        "            )\n",
        "new_df.show(32)"
      ],
      "metadata": {
        "colab": {
          "base_uri": "https://localhost:8080/"
        },
        "id": "C8ZDVxAuF_Ua",
        "outputId": "2eda4145-0a38-4adb-caa0-566121d4bfdf"
      },
      "execution_count": 45,
      "outputs": [
        {
          "output_type": "stream",
          "name": "stdout",
          "text": [
            "+----------+--------------------+----------------+------------------+-------------------+------------------+-------------------+------------------+\n",
            "|Unnamed: 0|          Unnamed: 1|      Unnamed: 2|        Unnamed: 3|         Unnamed: 4|        Unnamed: 5|         Unnamed: 6|        Unnamed: 7|\n",
            "+----------+--------------------+----------------+------------------+-------------------+------------------+-------------------+------------------+\n",
            "|      null|                null|            null|              null|   Tipo de Colmenas|              null|               null|              null|\n",
            "|      null|Total Nacional - ...|           Total|              null|Colmenas Modernas 5|              null|Colmenas Rústicas 6|              null|\n",
            "|      null|                null|Número de UPA3,4|Número de colmenas|     Número de UPA4|Número de colmenas|     Número de UPA4|Número de colmenas|\n",
            "|      null|      Total Nacional|            5909|            333037|               4997|            306758|                995|             26279|\n",
            "|      null|Región de Arica y...|               6|                53|                  5|                49|                  2|                 4|\n",
            "|      null| Región de Tarapacá |               8|                48|                  4|                18|                  4|                30|\n",
            "|      null|Región de Antofag...|               7|                25|                  5|                21|                  2|                 4|\n",
            "|      null|   Región de Atacama|              30|               359|                 24|               332|                  6|                27|\n",
            "|      null|  Región de Coquimbo|             297|              6448|                230|              5921|                 70|               527|\n",
            "|      null|Región de Valparaíso|             186|             24658|                165|             22541|                 22|              2117|\n",
            "|      null|Región Metropolit...|             209|             29572|                188|             29298|                 23|               274|\n",
            "|      null|Región del Libert...|             387|             50291|                353|             48967|                 34|              1324|\n",
            "|      null|    Región del Maule|             686|             63887|                597|             53961|                 95|              9926|\n",
            "|      null|     Región de Ñuble|             444|             38936|                386|             36789|                 61|              2147|\n",
            "|      null|  Región del Biobío |             947|             36048|                824|             33951|                130|              2097|\n",
            "|      null|Región de La Arau...|            1690|             38489|               1402|             34933|                319|              3556|\n",
            "|      null|  Región de Los Ríos|             456|             16781|                398|             15987|                 65|               794|\n",
            "|      null| Región de Los Lagos|             536|             27070|                402|             23666|                155|              3404|\n",
            "|      null|Región de Aysén d...|              29|               366|                 22|               318|                  7|                48|\n",
            "|      null|Región de Magalla...|               1|                 6|                  1|                 6|                  0|                 0|\n",
            "+----------+--------------------+----------------+------------------+-------------------+------------------+-------------------+------------------+\n",
            "\n"
          ]
        }
      ]
    },
    {
      "cell_type": "code",
      "source": [
        "from pyspark.sql import functions as F\n",
        "# Drop null columns\n",
        "null_counts = new_df.select(\n",
        "                [\n",
        "                    F.count(\n",
        "                        F.when(\n",
        "                            F.col(a).isNull(), a\n",
        "                            )\n",
        "                        ).alias(a) \n",
        "                    for a in new_df.columns\n",
        "                 ]\n",
        "              ).collect()[0].asDict()\n",
        "\n",
        "to_delete = [ p for p, u in null_counts.items() if u == new_df.count() ]\n",
        "\n",
        "new_df = new_df.drop(*to_delete)\n",
        "new_df.show(truncate=True)\n"
      ],
      "metadata": {
        "colab": {
          "base_uri": "https://localhost:8080/"
        },
        "id": "RI_X6vL_MY_m",
        "outputId": "de19a24e-2fec-4071-f9b6-f595425a8bd1"
      },
      "execution_count": 46,
      "outputs": [
        {
          "output_type": "stream",
          "name": "stdout",
          "text": [
            "+--------------------+----------------+------------------+-------------------+------------------+-------------------+------------------+\n",
            "|          Unnamed: 1|      Unnamed: 2|        Unnamed: 3|         Unnamed: 4|        Unnamed: 5|         Unnamed: 6|        Unnamed: 7|\n",
            "+--------------------+----------------+------------------+-------------------+------------------+-------------------+------------------+\n",
            "|                null|            null|              null|   Tipo de Colmenas|              null|               null|              null|\n",
            "|Total Nacional - ...|           Total|              null|Colmenas Modernas 5|              null|Colmenas Rústicas 6|              null|\n",
            "|                null|Número de UPA3,4|Número de colmenas|     Número de UPA4|Número de colmenas|     Número de UPA4|Número de colmenas|\n",
            "|      Total Nacional|            5909|            333037|               4997|            306758|                995|             26279|\n",
            "|Región de Arica y...|               6|                53|                  5|                49|                  2|                 4|\n",
            "| Región de Tarapacá |               8|                48|                  4|                18|                  4|                30|\n",
            "|Región de Antofag...|               7|                25|                  5|                21|                  2|                 4|\n",
            "|   Región de Atacama|              30|               359|                 24|               332|                  6|                27|\n",
            "|  Región de Coquimbo|             297|              6448|                230|              5921|                 70|               527|\n",
            "|Región de Valparaíso|             186|             24658|                165|             22541|                 22|              2117|\n",
            "|Región Metropolit...|             209|             29572|                188|             29298|                 23|               274|\n",
            "|Región del Libert...|             387|             50291|                353|             48967|                 34|              1324|\n",
            "|    Región del Maule|             686|             63887|                597|             53961|                 95|              9926|\n",
            "|     Región de Ñuble|             444|             38936|                386|             36789|                 61|              2147|\n",
            "|  Región del Biobío |             947|             36048|                824|             33951|                130|              2097|\n",
            "|Región de La Arau...|            1690|             38489|               1402|             34933|                319|              3556|\n",
            "|  Región de Los Ríos|             456|             16781|                398|             15987|                 65|               794|\n",
            "| Región de Los Lagos|             536|             27070|                402|             23666|                155|              3404|\n",
            "|Región de Aysén d...|              29|               366|                 22|               318|                  7|                48|\n",
            "|Región de Magalla...|               1|                 6|                  1|                 6|                  0|                 0|\n",
            "+--------------------+----------------+------------------+-------------------+------------------+-------------------+------------------+\n",
            "\n"
          ]
        }
      ]
    },
    {
      "cell_type": "code",
      "source": [
        "# Getting those columns with null field (in other words, headers)\n",
        "import pyspark.sql.functions as f\n",
        "from functools import reduce\n",
        "\n",
        "cols = [F.col(c) for c in new_df.columns]\n",
        "filter_expr = reduce(\n",
        "    lambda a, b: a | b.isNull(), \n",
        "    cols[1:], \n",
        "    cols[0].isNull()\n",
        "    )\n",
        "\n",
        "header_df = new_df.filter(filter_expr)\n",
        "header_df.show(truncate=False)"
      ],
      "metadata": {
        "colab": {
          "base_uri": "https://localhost:8080/"
        },
        "id": "AuMwiAk2yO6z",
        "outputId": "b8abaf3a-06f4-4a98-a458-3cbb7be270e0"
      },
      "execution_count": 47,
      "outputs": [
        {
          "output_type": "stream",
          "name": "stdout",
          "text": [
            "+-----------------------+----------------+------------------+-------------------+------------------+-------------------+------------------+\n",
            "|Unnamed: 1             |Unnamed: 2      |Unnamed: 3        |Unnamed: 4         |Unnamed: 5        |Unnamed: 6         |Unnamed: 7        |\n",
            "+-----------------------+----------------+------------------+-------------------+------------------+-------------------+------------------+\n",
            "|null                   |null            |null              |Tipo de Colmenas   |null              |null               |null              |\n",
            "|Total Nacional - Región|Total           |null              |Colmenas Modernas 5|null              |Colmenas Rústicas 6|null              |\n",
            "|null                   |Número de UPA3,4|Número de colmenas|Número de UPA4     |Número de colmenas|Número de UPA4     |Número de colmenas|\n",
            "+-----------------------+----------------+------------------+-------------------+------------------+-------------------+------------------+\n",
            "\n"
          ]
        }
      ]
    },
    {
      "cell_type": "code",
      "source": [
        "# Header dataframe to header numpy\n",
        "import numpy as np\n",
        "import unidecode\n",
        "\n",
        "def filling_data(multi_array): \n",
        "  for row in multi_array:\n",
        "    last_value=None\n",
        "    for i in range(len(row)):\n",
        "      if ( row[i]==None and i>0 ):\n",
        "        row[i] = last_value\n",
        "      else:\n",
        "        last_value = row[i]\n",
        "  return multi_array\n",
        "\n",
        "def data_normalization(xl_array):  \n",
        "  \"\"\"It will swap: uppercase to lowercase, \n",
        "  blanckspace to underscore, and other\"\"\"\n",
        "  xl_array = np.char.lower(xl_array)\n",
        "  xl_array = np.char.strip(xl_array)\n",
        "  xl_array = np.char.replace(xl_array, \"-\", \"\")\n",
        "  xl_array = np.char.replace(xl_array, \"  \", \" \")\n",
        "  xl_array = np.char.replace(xl_array, \" \", \"_\")\n",
        "  xl_array = np.char.replace(xl_array, \"none\", \"\")\n",
        "  xl_array = np.char.replace(xl_array, \",\", \"\")\n",
        "  ##self.xl_array = np.char.replace(self.xl_array, \".\", \"\")\n",
        "  ##self.xl_array = np.char.replace(self.xl_array, \",\", \"\")\n",
        "  return xl_array\n",
        "\n",
        "# Removing non ascii and special characteres in columns\n",
        "def ascii_ignore(x):\n",
        "  return unidecode.unidecode(x)\n",
        "\n",
        "# Mergin columns to unique ones\n",
        "def mergin_rows(array):\n",
        "  a = []\n",
        "  for row in array:\n",
        "    a.append(np.char.array(row))\n",
        "  b =np.char.array(0)\n",
        "  for x in a:\n",
        "    b = b + \"__\" +x\n",
        "  b = b.replace('0___', '')\n",
        "  b = b.replace('0_', '')\n",
        "  b = [ ascii_ignore(x) for x in b ]\n",
        "  return b\n",
        "\n",
        "header_np = np.array(header_df.select( header_df.columns ).collect())\n",
        "\n",
        "header_np = mergin_rows(data_normalization(filling_data(header_np).astype(str)))"
      ],
      "metadata": {
        "id": "yW-eMnT964nC"
      },
      "execution_count": 109,
      "outputs": []
    },
    {
      "cell_type": "code",
      "source": [
        "#removing null rows\n",
        "data_df = new_df.na.drop(how=\"any\")\n",
        "data_df.show(truncate=False)"
      ],
      "metadata": {
        "colab": {
          "base_uri": "https://localhost:8080/"
        },
        "id": "PD-tglaE3rKg",
        "outputId": "770b8b97-3698-4e67-b471-423a77d520e6"
      },
      "execution_count": 49,
      "outputs": [
        {
          "output_type": "stream",
          "name": "stdout",
          "text": [
            "+---------------------------------------------------+----------+----------+----------+----------+----------+----------+\n",
            "|Unnamed: 1                                         |Unnamed: 2|Unnamed: 3|Unnamed: 4|Unnamed: 5|Unnamed: 6|Unnamed: 7|\n",
            "+---------------------------------------------------+----------+----------+----------+----------+----------+----------+\n",
            "|Total Nacional                                     |5909      |333037    |4997      |306758    |995       |26279     |\n",
            "|Región de Arica y Parinacota                       |6         |53        |5         |49        |2         |4         |\n",
            "|Región de Tarapacá                                 |8         |48        |4         |18        |4         |30        |\n",
            "|Región de Antofagasta                              |7         |25        |5         |21        |2         |4         |\n",
            "|Región de Atacama                                  |30        |359       |24        |332       |6         |27        |\n",
            "|Región de Coquimbo                                 |297       |6448      |230       |5921      |70        |527       |\n",
            "|Región de Valparaíso                               |186       |24658     |165       |22541     |22        |2117      |\n",
            "|Región Metropolitana de Santiago                   |209       |29572     |188       |29298     |23        |274       |\n",
            "|Región del Libertador General Bernardo O'Higgins   |387       |50291     |353       |48967     |34        |1324      |\n",
            "|Región del Maule                                   |686       |63887     |597       |53961     |95        |9926      |\n",
            "|Región de Ñuble                                    |444       |38936     |386       |36789     |61        |2147      |\n",
            "|Región del Biobío                                  |947       |36048     |824       |33951     |130       |2097      |\n",
            "|Región de La Araucanía                             |1690      |38489     |1402      |34933     |319       |3556      |\n",
            "|Región de Los Ríos                                 |456       |16781     |398       |15987     |65        |794       |\n",
            "|Región de Los Lagos                                |536       |27070     |402       |23666     |155       |3404      |\n",
            "|Región de Aysén del General Carlos Ibáñez del Campo|29        |366       |22        |318       |7         |48        |\n",
            "|Región de Magallanes y de la Antártica Chilena     |1         |6         |1         |6         |0         |0         |\n",
            "+---------------------------------------------------+----------+----------+----------+----------+----------+----------+\n",
            "\n"
          ]
        }
      ]
    },
    {
      "cell_type": "code",
      "source": [
        "data_df.toDF(*header_np).show(truncate=False)\n"
      ],
      "metadata": {
        "colab": {
          "base_uri": "https://localhost:8080/"
        },
        "id": "NNW-e53SrR2w",
        "outputId": "653758dc-ccba-45fa-c66a-c7a625bd41a4"
      },
      "execution_count": 111,
      "outputs": [
        {
          "output_type": "stream",
          "name": "stdout",
          "text": [
            "+---------------------------------------------------+----------------------+-------------------------+-----------------------------------------------------+---------------------------------------------------------+-----------------------------------------------------+---------------------------------------------------------+\n",
            "|total_nacional_region__                            |total__numero_de_upa34|total__numero_de_colmenas|tipo_de_colmenas__colmenas_modernas_5__numero_de_upa4|tipo_de_colmenas__colmenas_modernas_5__numero_de_colmenas|tipo_de_colmenas__colmenas_rusticas_6__numero_de_upa4|tipo_de_colmenas__colmenas_rusticas_6__numero_de_colmenas|\n",
            "+---------------------------------------------------+----------------------+-------------------------+-----------------------------------------------------+---------------------------------------------------------+-----------------------------------------------------+---------------------------------------------------------+\n",
            "|Total Nacional                                     |5909                  |333037                   |4997                                                 |306758                                                   |995                                                  |26279                                                    |\n",
            "|Región de Arica y Parinacota                       |6                     |53                       |5                                                    |49                                                       |2                                                    |4                                                        |\n",
            "|Región de Tarapacá                                 |8                     |48                       |4                                                    |18                                                       |4                                                    |30                                                       |\n",
            "|Región de Antofagasta                              |7                     |25                       |5                                                    |21                                                       |2                                                    |4                                                        |\n",
            "|Región de Atacama                                  |30                    |359                      |24                                                   |332                                                      |6                                                    |27                                                       |\n",
            "|Región de Coquimbo                                 |297                   |6448                     |230                                                  |5921                                                     |70                                                   |527                                                      |\n",
            "|Región de Valparaíso                               |186                   |24658                    |165                                                  |22541                                                    |22                                                   |2117                                                     |\n",
            "|Región Metropolitana de Santiago                   |209                   |29572                    |188                                                  |29298                                                    |23                                                   |274                                                      |\n",
            "|Región del Libertador General Bernardo O'Higgins   |387                   |50291                    |353                                                  |48967                                                    |34                                                   |1324                                                     |\n",
            "|Región del Maule                                   |686                   |63887                    |597                                                  |53961                                                    |95                                                   |9926                                                     |\n",
            "|Región de Ñuble                                    |444                   |38936                    |386                                                  |36789                                                    |61                                                   |2147                                                     |\n",
            "|Región del Biobío                                  |947                   |36048                    |824                                                  |33951                                                    |130                                                  |2097                                                     |\n",
            "|Región de La Araucanía                             |1690                  |38489                    |1402                                                 |34933                                                    |319                                                  |3556                                                     |\n",
            "|Región de Los Ríos                                 |456                   |16781                    |398                                                  |15987                                                    |65                                                   |794                                                      |\n",
            "|Región de Los Lagos                                |536                   |27070                    |402                                                  |23666                                                    |155                                                  |3404                                                     |\n",
            "|Región de Aysén del General Carlos Ibáñez del Campo|29                    |366                      |22                                                   |318                                                      |7                                                    |48                                                       |\n",
            "|Región de Magallanes y de la Antártica Chilena     |1                     |6                        |1                                                    |6                                                        |0                                                    |0                                                        |\n",
            "+---------------------------------------------------+----------------------+-------------------------+-----------------------------------------------------+---------------------------------------------------------+-----------------------------------------------------+---------------------------------------------------------+\n",
            "\n"
          ]
        }
      ]
    },
    {
      "cell_type": "code",
      "source": [
        "# Calculating Pi values using PySpark\n",
        "import random\n",
        "NUM_SAMPLES = 100000000\n",
        "def inside(p):\n",
        "  x, y = random.random(), random.random()\n",
        "  return x*x + y*y < 1\n",
        "\n",
        "count = s_context.parallelize(range(0, NUM_SAMPLES)).filter(inside).count()\n",
        "pi = 4 * count / NUM_SAMPLES\n",
        "print(\"Pi is roughly\", pi)"
      ],
      "metadata": {
        "colab": {
          "base_uri": "https://localhost:8080/"
        },
        "id": "1Dq7LwGQJ0-h",
        "outputId": "1b807191-751a-4f07-b233-32a8b0597620"
      },
      "execution_count": 50,
      "outputs": [
        {
          "output_type": "stream",
          "name": "stdout",
          "text": [
            "Pi is roughly 3.14162312\n"
          ]
        }
      ]
    },
    {
      "cell_type": "markdown",
      "source": [
        "# References\n",
        "\n",
        "\n",
        "\n",
        "\n",
        "*   [Install PySpark 3 on Google Colab the Easy Way](https://medium.com/grabngoinfo/install-pyspark-3-on-google-colab-the-easy-way-577ec4a2bcd8)\n",
        "*   [Introduction to PySpark](https://medium.com/the-researchers-guide/introduction-to-pyspark-a61f7217398e#:~:text=The%20first%20step%20would%20be,perform%20data%20loading%20and%20manipulations.&text=The%20next%20step%20is%20to,and%20instantiating%20with%20getOrCreate(%20).)\n",
        "*   [How to Get Started with PySpark: compute power](https://towardsdatascience.com/how-to-get-started-with-pyspark-1adc142456ec?gi=10f32e5a2155)\n",
        "*   [Dataframes and Big Data](https://medium.com/analytics-vidhya/introduction-to-pyspark-take-your-first-steps-into-big-data-analytics-b98cf7dce8b3)\n",
        "\n",
        "\n",
        "\n",
        "\n",
        "\n",
        "\n",
        "\n",
        "\n"
      ],
      "metadata": {
        "id": "F7uak4OJIzEz"
      }
    },
    {
      "cell_type": "markdown",
      "source": [
        "## D. Cleaning messy data whyqd"
      ],
      "metadata": {
        "id": "ekZJmNMcANvx"
      }
    },
    {
      "cell_type": "code",
      "source": [
        "!pip install whyqd\n",
        "#whyqd-0.6.2 \n",
        "#xlrd-2.0.1"
      ],
      "metadata": {
        "id": "8e0a9VOVQf1z"
      },
      "execution_count": null,
      "outputs": []
    },
    {
      "cell_type": "code",
      "execution_count": null,
      "metadata": {
        "id": "VxRbeobdPnFg"
      },
      "outputs": [],
      "source": [
        "import whyqd\n",
        "SCHEMA_SOURCE = \"/full/path_to/2020_rates_data_schema.json\"\n",
        "DIRECTORY = \"/path_to/working/directory/\"\n",
        "    # Note: these links may no longer work when you follow this tutorial. Get the latest ones...\n",
        "INPUT_DATA = [\n",
        "            \"https://www.portsmouth.gov.uk/ext/documents-external/biz-ndr-properties-january-2020.xls\",\n",
        "            \"https://www.portsmouth.gov.uk/ext/documents-external/biz-ndr-reliefs-january-2020.xls\",\n",
        "            \"https://www.portsmouth.gov.uk/ext/documents-external/biz-empty-commercial-properties-january-2020.xls\"]\n",
        "method = whyqd.Method(directory=DIRECTORY, schema=SCHEMA)\n",
        "method.add_data(source=INPUT_DATA)"
      ]
    }
  ]
}