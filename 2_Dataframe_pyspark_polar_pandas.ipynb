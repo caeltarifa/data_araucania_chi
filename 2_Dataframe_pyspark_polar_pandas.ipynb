{
  "nbformat": 4,
  "nbformat_minor": 0,
  "metadata": {
    "colab": {
      "provenance": [],
      "authorship_tag": "ABX9TyMdYzOucMyKwoFbsgNoUy0b"
    },
    "kernelspec": {
      "name": "python3",
      "display_name": "Python 3"
    },
    "language_info": {
      "name": "python"
    }
  },
  "cells": [
    {
      "cell_type": "markdown",
      "source": [
        "# A. Polar dataframe"
      ],
      "metadata": {
        "id": "iYuGcNa21Sut"
      }
    },
    {
      "cell_type": "code",
      "source": [
        "!pip install polars\n",
        "!pip install xlsx2csv\n",
        "#polars-0.15.8\n",
        "#xlsx2csv-0.8.0"
      ],
      "metadata": {
        "id": "i_2UrXxNTXaA"
      },
      "execution_count": null,
      "outputs": []
    },
    {
      "cell_type": "code",
      "source": [
        "import polars as pl\n",
        "excel_file = \"./existencias-colmenas.xlsx\"\n",
        "a = pl.read_excel(\n",
        "      file=excel_file, \n",
        "      sheet_id=0, \n",
        "      xlsx2csv_options = {\n",
        "          \"linedelimitator\":\"\\n\"\n",
        "      }, \n",
        "    )\n",
        "\n",
        "print(a)"
      ],
      "metadata": {
        "colab": {
          "base_uri": "https://localhost:8080/"
        },
        "id": "EarbpzbFS4QU",
        "outputId": "2500df1b-c57b-4a4f-966d-fe466a6d7d2b"
      },
      "execution_count": null,
      "outputs": [
        {
          "output_type": "stream",
          "name": "stdout",
          "text": [
            "{'13': shape: (28, 7)\n",
            "┌──────┬───────────────┬───────────────┬──────────────┬──────────────┬──────────────┬──────────────┐\n",
            "│      ┆ 13.  Número   ┆ _duplicated_0 ┆ _duplicated_ ┆ _duplicated_ ┆ _duplicated_ ┆ _duplicated_ │\n",
            "│ ---  ┆ de Unidades   ┆ ---           ┆ 1            ┆ 2            ┆ 3            ┆ 4            │\n",
            "│ str  ┆ Producti...   ┆ str           ┆ ---          ┆ ---          ┆ ---          ┆ ---          │\n",
            "│      ┆ ---           ┆               ┆ str          ┆ str          ┆ str          ┆ str          │\n",
            "│      ┆ str           ┆               ┆              ┆              ┆              ┆              │\n",
            "╞══════╪═══════════════╪═══════════════╪══════════════╪══════════════╪══════════════╪══════════════╡\n",
            "│ null ┆ null          ┆ null          ┆ null         ┆ Tipo de      ┆ null         ┆ null         │\n",
            "│      ┆               ┆               ┆              ┆ Colmenas     ┆              ┆              │\n",
            "├╌╌╌╌╌╌┼╌╌╌╌╌╌╌╌╌╌╌╌╌╌╌┼╌╌╌╌╌╌╌╌╌╌╌╌╌╌╌┼╌╌╌╌╌╌╌╌╌╌╌╌╌╌┼╌╌╌╌╌╌╌╌╌╌╌╌╌╌┼╌╌╌╌╌╌╌╌╌╌╌╌╌╌┼╌╌╌╌╌╌╌╌╌╌╌╌╌╌┤\n",
            "│ null ┆ Total         ┆ Total         ┆ null         ┆ Colmenas     ┆ null         ┆ Colmenas     │\n",
            "│      ┆ Nacional -    ┆               ┆              ┆ Modernas 5   ┆              ┆ Rústicas 6   │\n",
            "│      ┆ Región        ┆               ┆              ┆              ┆              ┆              │\n",
            "├╌╌╌╌╌╌┼╌╌╌╌╌╌╌╌╌╌╌╌╌╌╌┼╌╌╌╌╌╌╌╌╌╌╌╌╌╌╌┼╌╌╌╌╌╌╌╌╌╌╌╌╌╌┼╌╌╌╌╌╌╌╌╌╌╌╌╌╌┼╌╌╌╌╌╌╌╌╌╌╌╌╌╌┼╌╌╌╌╌╌╌╌╌╌╌╌╌╌┤\n",
            "│ null ┆ null          ┆ Número de     ┆ Número de    ┆ Número de    ┆ Número de    ┆ Número de    │\n",
            "│      ┆               ┆ UPA3,4        ┆ colmenas     ┆ UPA4         ┆ colmenas     ┆ UPA4         │\n",
            "├╌╌╌╌╌╌┼╌╌╌╌╌╌╌╌╌╌╌╌╌╌╌┼╌╌╌╌╌╌╌╌╌╌╌╌╌╌╌┼╌╌╌╌╌╌╌╌╌╌╌╌╌╌┼╌╌╌╌╌╌╌╌╌╌╌╌╌╌┼╌╌╌╌╌╌╌╌╌╌╌╌╌╌┼╌╌╌╌╌╌╌╌╌╌╌╌╌╌┤\n",
            "│ null ┆ Total         ┆ 5909          ┆ 333037       ┆ 4997         ┆ 306758       ┆ 995          │\n",
            "│      ┆ Nacional      ┆               ┆              ┆              ┆              ┆              │\n",
            "├╌╌╌╌╌╌┼╌╌╌╌╌╌╌╌╌╌╌╌╌╌╌┼╌╌╌╌╌╌╌╌╌╌╌╌╌╌╌┼╌╌╌╌╌╌╌╌╌╌╌╌╌╌┼╌╌╌╌╌╌╌╌╌╌╌╌╌╌┼╌╌╌╌╌╌╌╌╌╌╌╌╌╌┼╌╌╌╌╌╌╌╌╌╌╌╌╌╌┤\n",
            "│ ...  ┆ ...           ┆ ...           ┆ ...          ┆ ...          ┆ ...          ┆ ...          │\n",
            "├╌╌╌╌╌╌┼╌╌╌╌╌╌╌╌╌╌╌╌╌╌╌┼╌╌╌╌╌╌╌╌╌╌╌╌╌╌╌┼╌╌╌╌╌╌╌╌╌╌╌╌╌╌┼╌╌╌╌╌╌╌╌╌╌╌╌╌╌┼╌╌╌╌╌╌╌╌╌╌╌╌╌╌┼╌╌╌╌╌╌╌╌╌╌╌╌╌╌┤\n",
            "│ null ┆ 3. La         ┆ null          ┆ null         ┆ null         ┆ null         ┆ null         │\n",
            "│      ┆ sumatoria del ┆               ┆              ┆              ┆              ┆              │\n",
            "│      ┆ número de     ┆               ┆              ┆              ┆              ┆              │\n",
            "│      ┆ UP...         ┆               ┆              ┆              ┆              ┆              │\n",
            "├╌╌╌╌╌╌┼╌╌╌╌╌╌╌╌╌╌╌╌╌╌╌┼╌╌╌╌╌╌╌╌╌╌╌╌╌╌╌┼╌╌╌╌╌╌╌╌╌╌╌╌╌╌┼╌╌╌╌╌╌╌╌╌╌╌╌╌╌┼╌╌╌╌╌╌╌╌╌╌╌╌╌╌┼╌╌╌╌╌╌╌╌╌╌╌╌╌╌┤\n",
            "│ null ┆ 4. En el      ┆ null          ┆ null         ┆ null         ┆ null         ┆ null         │\n",
            "│      ┆ marco del     ┆               ┆              ┆              ┆              ┆              │\n",
            "│      ┆ proceso de    ┆               ┆              ┆              ┆              ┆              │\n",
            "│      ┆ co...         ┆               ┆              ┆              ┆              ┆              │\n",
            "├╌╌╌╌╌╌┼╌╌╌╌╌╌╌╌╌╌╌╌╌╌╌┼╌╌╌╌╌╌╌╌╌╌╌╌╌╌╌┼╌╌╌╌╌╌╌╌╌╌╌╌╌╌┼╌╌╌╌╌╌╌╌╌╌╌╌╌╌┼╌╌╌╌╌╌╌╌╌╌╌╌╌╌┼╌╌╌╌╌╌╌╌╌╌╌╌╌╌┤\n",
            "│ null ┆ 5. Colmenas   ┆ null          ┆ null         ┆ null         ┆ null         ┆ null         │\n",
            "│      ┆ modernas: son ┆               ┆              ┆              ┆              ┆              │\n",
            "│      ┆ aquell...     ┆               ┆              ┆              ┆              ┆              │\n",
            "├╌╌╌╌╌╌┼╌╌╌╌╌╌╌╌╌╌╌╌╌╌╌┼╌╌╌╌╌╌╌╌╌╌╌╌╌╌╌┼╌╌╌╌╌╌╌╌╌╌╌╌╌╌┼╌╌╌╌╌╌╌╌╌╌╌╌╌╌┼╌╌╌╌╌╌╌╌╌╌╌╌╌╌┼╌╌╌╌╌╌╌╌╌╌╌╌╌╌┤\n",
            "│ null ┆ 6. Colmenas   ┆ null          ┆ null         ┆ null         ┆ null         ┆ null         │\n",
            "│      ┆ rústicas: son ┆               ┆              ┆              ┆              ┆              │\n",
            "│      ┆ aquell...     ┆               ┆              ┆              ┆              ┆              │\n",
            "└──────┴───────────────┴───────────────┴──────────────┴──────────────┴──────────────┴──────────────┘}\n"
          ]
        }
      ]
    },
    {
      "cell_type": "markdown",
      "source": [
        "## References\n",
        "\n",
        "> [xlsx2csv](https://github.com/dilshod/xlsx2csv)"
      ],
      "metadata": {
        "id": "gesep4rh2vRZ"
      }
    },
    {
      "cell_type": "markdown",
      "source": [
        "# C. Pandas dataframe"
      ],
      "metadata": {
        "id": "sL1sf8KT1pw5"
      }
    },
    {
      "cell_type": "code",
      "source": [
        "# import polars as pl\n",
        "import pandas as pd\n",
        "\n",
        "excel_file = \"./existencias-colmenas.xlsx\"\n",
        "\n",
        "pandas_excel = pd.read_excel(excel_file,sheet_name=0, skiprows=2, )\n",
        "print(pandas_excel.head())"
      ],
      "metadata": {
        "colab": {
          "base_uri": "https://localhost:8080/"
        },
        "id": "zGHWj3nUYLAZ",
        "outputId": "07a62c2e-585b-493a-98c1-f605a5c7470c"
      },
      "execution_count": null,
      "outputs": [
        {
          "output_type": "stream",
          "name": "stdout",
          "text": [
            "   Unnamed: 0                    Unnamed: 1        Unnamed: 2  \\\n",
            "0         NaN                           NaN               NaN   \n",
            "1         NaN       Total Nacional - Región             Total   \n",
            "2         NaN                           NaN  Número de UPA3,4   \n",
            "3         NaN                Total Nacional              5909   \n",
            "4         NaN  Región de Arica y Parinacota                 6   \n",
            "\n",
            "           Unnamed: 3           Unnamed: 4          Unnamed: 5  \\\n",
            "0                 NaN     Tipo de Colmenas                 NaN   \n",
            "1                 NaN  Colmenas Modernas 5                 NaN   \n",
            "2  Número de colmenas       Número de UPA4  Número de colmenas   \n",
            "3              333037                 4997              306758   \n",
            "4                  53                    5                  49   \n",
            "\n",
            "            Unnamed: 6          Unnamed: 7  \n",
            "0                  NaN                 NaN  \n",
            "1  Colmenas Rústicas 6                 NaN  \n",
            "2       Número de UPA4  Número de colmenas  \n",
            "3                  995               26279  \n",
            "4                    2                   4  \n"
          ]
        }
      ]
    },
    {
      "cell_type": "markdown",
      "source": [
        "# B. PySpark dataframe"
      ],
      "metadata": {
        "id": "FiEOn7sp1oPA"
      }
    },
    {
      "cell_type": "code",
      "source": [
        "!pip install pyspark\n",
        "!pip install findspark"
      ],
      "metadata": {
        "colab": {
          "base_uri": "https://localhost:8080/"
        },
        "id": "Lxei0oli5ZE3",
        "outputId": "cfaf4149-e50e-4030-a531-e4a34314408a"
      },
      "execution_count": 1,
      "outputs": [
        {
          "output_type": "stream",
          "name": "stdout",
          "text": [
            "Looking in indexes: https://pypi.org/simple, https://us-python.pkg.dev/colab-wheels/public/simple/\n",
            "Collecting pyspark\n",
            "  Downloading pyspark-3.3.1.tar.gz (281.4 MB)\n",
            "\u001b[K     |████████████████████████████████| 281.4 MB 35 kB/s \n",
            "\u001b[?25hCollecting py4j==0.10.9.5\n",
            "  Downloading py4j-0.10.9.5-py2.py3-none-any.whl (199 kB)\n",
            "\u001b[K     |████████████████████████████████| 199 kB 54.8 MB/s \n",
            "\u001b[?25hBuilding wheels for collected packages: pyspark\n",
            "  Building wheel for pyspark (setup.py) ... \u001b[?25l\u001b[?25hdone\n",
            "  Created wheel for pyspark: filename=pyspark-3.3.1-py2.py3-none-any.whl size=281845512 sha256=0752b24800801eb42190976ee63cb82b4fb48520fba0bdc9fe5a369e419e612f\n",
            "  Stored in directory: /root/.cache/pip/wheels/43/dc/11/ec201cd671da62fa9c5cc77078235e40722170ceba231d7598\n",
            "Successfully built pyspark\n",
            "Installing collected packages: py4j, pyspark\n",
            "Successfully installed py4j-0.10.9.5 pyspark-3.3.1\n",
            "Looking in indexes: https://pypi.org/simple, https://us-python.pkg.dev/colab-wheels/public/simple/\n",
            "Collecting findspark\n",
            "  Downloading findspark-2.0.1-py2.py3-none-any.whl (4.4 kB)\n",
            "Installing collected packages: findspark\n",
            "Successfully installed findspark-2.0.1\n"
          ]
        }
      ]
    },
    {
      "cell_type": "markdown",
      "source": [
        "## Checking informatino session"
      ],
      "metadata": {
        "id": "z2CbVpvj-nT1"
      }
    },
    {
      "cell_type": "code",
      "source": [
        "import pandas as pd\n",
        "import pyspark\n",
        "\n",
        "import findspark\n",
        "findspark.init()"
      ],
      "metadata": {
        "id": "LFcLG0zhIFoz"
      },
      "execution_count": 2,
      "outputs": []
    },
    {
      "cell_type": "code",
      "source": [
        "# Import SparkSession\n",
        "from pyspark.sql import SparkSession\n",
        "# Create a Spark Session\n",
        "spark = SparkSession.builder.master(\"local[*]\").getOrCreate()\n",
        "# Check Spark Session Information\n",
        "print(spark)"
      ],
      "metadata": {
        "colab": {
          "base_uri": "https://localhost:8080/"
        },
        "id": "xm-zCwWR-sWy",
        "outputId": "6f3d7ebf-ef81-41d1-8fa1-765cba824d12"
      },
      "execution_count": 3,
      "outputs": [
        {
          "output_type": "stream",
          "name": "stdout",
          "text": [
            "<pyspark.sql.session.SparkSession object at 0x7f31fa72c550>\n"
          ]
        }
      ]
    },
    {
      "cell_type": "code",
      "source": [
        "from pyspark import SparkContext\n",
        "from pyspark.sql import SQLContext \n",
        "\n",
        "s_context = SparkContext.getOrCreate()\n",
        "#s_context = SparkContext(\"local\", \"existencia_colmenas\")\n",
        "sql = SQLContext(s_context)"
      ],
      "metadata": {
        "colab": {
          "base_uri": "https://localhost:8080/"
        },
        "id": "bZe0cFrR1yKE",
        "outputId": "b164a87b-619b-401f-f9cd-df5b1190b95a"
      },
      "execution_count": 4,
      "outputs": [
        {
          "output_type": "stream",
          "name": "stderr",
          "text": [
            "/usr/local/lib/python3.8/dist-packages/pyspark/sql/context.py:112: FutureWarning: Deprecated in 3.0.0. Use SparkSession.builder.getOrCreate() instead.\n",
            "  warnings.warn(\n"
          ]
        }
      ]
    },
    {
      "cell_type": "code",
      "source": [
        "df = pd.read_excel(\"./existencias-colmenas.xlsx\", sheet_name=0)\n",
        "# Standardising all data types from pandas to String for spark\n",
        "df = df.astype(str)\n",
        "\n",
        "df_spark = sql.createDataFrame(df)\n"
      ],
      "metadata": {
        "id": "AvXa4XuP5O2c"
      },
      "execution_count": 6,
      "outputs": []
    },
    {
      "cell_type": "code",
      "source": [
        "df_spark.show()"
      ],
      "metadata": {
        "colab": {
          "base_uri": "https://localhost:8080/"
        },
        "id": "Lmjlh7sS_gnm",
        "outputId": "fdfd51eb-41d1-48fe-a01a-83fadf68ebd7"
      },
      "execution_count": 7,
      "outputs": [
        {
          "output_type": "stream",
          "name": "stdout",
          "text": [
            "+----------+--------------------+----------------+------------------+-------------------+------------------+-------------------+------------------+\n",
            "|Unnamed: 0|          Unnamed: 1|      Unnamed: 2|        Unnamed: 3|         Unnamed: 4|        Unnamed: 5|         Unnamed: 6|        Unnamed: 7|\n",
            "+----------+--------------------+----------------+------------------+-------------------+------------------+-------------------+------------------+\n",
            "|       nan|13.  Número de Un...|             nan|               nan|                nan|               nan|                nan|               nan|\n",
            "|       nan|                 nan|             nan|               nan|                nan|               nan|                nan|               nan|\n",
            "|       nan|                 nan|             nan|               nan|   Tipo de Colmenas|               nan|                nan|               nan|\n",
            "|       nan|Total Nacional - ...|           Total|               nan|Colmenas Modernas 5|               nan|Colmenas Rústicas 6|               nan|\n",
            "|       nan|                 nan|Número de UPA3,4|Número de colmenas|     Número de UPA4|Número de colmenas|     Número de UPA4|Número de colmenas|\n",
            "|       nan|      Total Nacional|            5909|            333037|               4997|            306758|                995|             26279|\n",
            "|       nan|Región de Arica y...|               6|                53|                  5|                49|                  2|                 4|\n",
            "|       nan| Región de Tarapacá |               8|                48|                  4|                18|                  4|                30|\n",
            "|       nan|Región de Antofag...|               7|                25|                  5|                21|                  2|                 4|\n",
            "|       nan|   Región de Atacama|              30|               359|                 24|               332|                  6|                27|\n",
            "|       nan|  Región de Coquimbo|             297|              6448|                230|              5921|                 70|               527|\n",
            "|       nan|Región de Valparaíso|             186|             24658|                165|             22541|                 22|              2117|\n",
            "|       nan|Región Metropolit...|             209|             29572|                188|             29298|                 23|               274|\n",
            "|       nan|Región del Libert...|             387|             50291|                353|             48967|                 34|              1324|\n",
            "|       nan|    Región del Maule|             686|             63887|                597|             53961|                 95|              9926|\n",
            "|       nan|     Región de Ñuble|             444|             38936|                386|             36789|                 61|              2147|\n",
            "|       nan|  Región del Biobío |             947|             36048|                824|             33951|                130|              2097|\n",
            "|       nan|Región de La Arau...|            1690|             38489|               1402|             34933|                319|              3556|\n",
            "|       nan|  Región de Los Ríos|             456|             16781|                398|             15987|                 65|               794|\n",
            "|       nan| Región de Los Lagos|             536|             27070|                402|             23666|                155|              3404|\n",
            "+----------+--------------------+----------------+------------------+-------------------+------------------+-------------------+------------------+\n",
            "only showing top 20 rows\n",
            "\n"
          ]
        }
      ]
    },
    {
      "cell_type": "code",
      "source": [
        "df_spark.printSchema()"
      ],
      "metadata": {
        "colab": {
          "base_uri": "https://localhost:8080/"
        },
        "id": "Sl-htgPV6H01",
        "outputId": "1d849d67-da9d-46ae-ecd2-549aec886678"
      },
      "execution_count": 10,
      "outputs": [
        {
          "output_type": "stream",
          "name": "stdout",
          "text": [
            "root\n",
            " |-- Unnamed: 0: string (nullable = true)\n",
            " |-- Unnamed: 1: string (nullable = true)\n",
            " |-- Unnamed: 2: string (nullable = true)\n",
            " |-- Unnamed: 3: string (nullable = true)\n",
            " |-- Unnamed: 4: string (nullable = true)\n",
            " |-- Unnamed: 5: string (nullable = true)\n",
            " |-- Unnamed: 6: string (nullable = true)\n",
            " |-- Unnamed: 7: string (nullable = true)\n",
            "\n"
          ]
        }
      ]
    },
    {
      "cell_type": "code",
      "source": [
        "df_spark.count()"
      ],
      "metadata": {
        "colab": {
          "base_uri": "https://localhost:8080/"
        },
        "id": "2iAyNrEQ6cdY",
        "outputId": "5ae74846-a502-49a8-a5fb-e58926e2020e"
      },
      "execution_count": 11,
      "outputs": [
        {
          "output_type": "execute_result",
          "data": {
            "text/plain": [
              "31"
            ]
          },
          "metadata": {},
          "execution_count": 11
        }
      ]
    },
    {
      "cell_type": "code",
      "source": [
        "df_spark.select(\"Unnamed: 0\", \"Unnamed: 1\", \"Unnamed: 2\").show(4)"
      ],
      "metadata": {
        "colab": {
          "base_uri": "https://localhost:8080/"
        },
        "id": "8NQwLM8Z6jb2",
        "outputId": "fa9044e4-4b61-4ae7-f27f-84ff4d0574bd"
      },
      "execution_count": 13,
      "outputs": [
        {
          "output_type": "stream",
          "name": "stdout",
          "text": [
            "+----------+--------------------+----------+\n",
            "|Unnamed: 0|          Unnamed: 1|Unnamed: 2|\n",
            "+----------+--------------------+----------+\n",
            "|       nan|13.  Número de Un...|       nan|\n",
            "|       nan|                 nan|       nan|\n",
            "|       nan|                 nan|       nan|\n",
            "|       nan|Total Nacional - ...|     Total|\n",
            "+----------+--------------------+----------+\n",
            "only showing top 4 rows\n",
            "\n"
          ]
        }
      ]
    },
    {
      "cell_type": "code",
      "source": [
        "# Adding SQL functions to count empty rows\n",
        "from pyspark.sql import functions as F\n",
        "\n",
        "# Counting nan Rows\n",
        "df_spark.select(\n",
        "    [\n",
        "        F.count\n",
        "          (\n",
        "              F.when(\n",
        "                  F.isnan(c), c\n",
        "              )\n",
        "          ).alias(c) \n",
        "        for c in df_spark.columns\n",
        "     ]\n",
        "  ).show()\n",
        "F.when"
      ],
      "metadata": {
        "colab": {
          "base_uri": "https://localhost:8080/"
        },
        "id": "LPo7JgpC7Ms4",
        "outputId": "d2da23fd-50ae-4dac-fde7-e8bc76631873"
      },
      "execution_count": 22,
      "outputs": [
        {
          "output_type": "stream",
          "name": "stdout",
          "text": [
            "+----------+----------+----------+----------+----------+----------+----------+----------+\n",
            "|Unnamed: 0|Unnamed: 1|Unnamed: 2|Unnamed: 3|Unnamed: 4|Unnamed: 5|Unnamed: 6|Unnamed: 7|\n",
            "+----------+----------+----------+----------+----------+----------+----------+----------+\n",
            "|        31|         4|        12|        13|        11|        13|        12|        13|\n",
            "+----------+----------+----------+----------+----------+----------+----------+----------+\n",
            "\n",
            "+----------+--------------------+----------------+------------------+-------------------+------------------+-------------------+------------------+\n",
            "|Unnamed: 0|          Unnamed: 1|      Unnamed: 2|        Unnamed: 3|         Unnamed: 4|        Unnamed: 5|         Unnamed: 6|        Unnamed: 7|\n",
            "+----------+--------------------+----------------+------------------+-------------------+------------------+-------------------+------------------+\n",
            "|       nan|13.  Número de Un...|             nan|               nan|                nan|               nan|                nan|               nan|\n",
            "|       nan|                 nan|             nan|               nan|                nan|               nan|                nan|               nan|\n",
            "|       nan|                 nan|             nan|               nan|   Tipo de Colmenas|               nan|                nan|               nan|\n",
            "|       nan|Total Nacional - ...|           Total|               nan|Colmenas Modernas 5|               nan|Colmenas Rústicas 6|               nan|\n",
            "|       nan|                 nan|Número de UPA3,4|Número de colmenas|     Número de UPA4|Número de colmenas|     Número de UPA4|Número de colmenas|\n",
            "|       nan|      Total Nacional|            5909|            333037|               4997|            306758|                995|             26279|\n",
            "|       nan|Región de Arica y...|               6|                53|                  5|                49|                  2|                 4|\n",
            "|       nan| Región de Tarapacá |               8|                48|                  4|                18|                  4|                30|\n",
            "|       nan|Región de Antofag...|               7|                25|                  5|                21|                  2|                 4|\n",
            "|       nan|   Región de Atacama|              30|               359|                 24|               332|                  6|                27|\n",
            "|       nan|  Región de Coquimbo|             297|              6448|                230|              5921|                 70|               527|\n",
            "|       nan|Región de Valparaíso|             186|             24658|                165|             22541|                 22|              2117|\n",
            "|       nan|Región Metropolit...|             209|             29572|                188|             29298|                 23|               274|\n",
            "|       nan|Región del Libert...|             387|             50291|                353|             48967|                 34|              1324|\n",
            "|       nan|    Región del Maule|             686|             63887|                597|             53961|                 95|              9926|\n",
            "|       nan|     Región de Ñuble|             444|             38936|                386|             36789|                 61|              2147|\n",
            "|       nan|  Región del Biobío |             947|             36048|                824|             33951|                130|              2097|\n",
            "|       nan|Región de La Arau...|            1690|             38489|               1402|             34933|                319|              3556|\n",
            "|       nan|  Región de Los Ríos|             456|             16781|                398|             15987|                 65|               794|\n",
            "|       nan| Región de Los Lagos|             536|             27070|                402|             23666|                155|              3404|\n",
            "+----------+--------------------+----------------+------------------+-------------------+------------------+-------------------+------------------+\n",
            "only showing top 20 rows\n",
            "\n"
          ]
        }
      ]
    },
    {
      "cell_type": "code",
      "source": [
        "# Replace nan with Null\n",
        "df_spark = df_spark.replace('nan', None)\n",
        "df_spark.show()"
      ],
      "metadata": {
        "colab": {
          "base_uri": "https://localhost:8080/"
        },
        "id": "6GpZpmvsEykG",
        "outputId": "4c930b44-01c3-4b58-b7c2-354ec50a89cb"
      },
      "execution_count": 34,
      "outputs": [
        {
          "output_type": "stream",
          "name": "stdout",
          "text": [
            "+----------+--------------------+----------------+------------------+-------------------+------------------+-------------------+------------------+\n",
            "|Unnamed: 0|          Unnamed: 1|      Unnamed: 2|        Unnamed: 3|         Unnamed: 4|        Unnamed: 5|         Unnamed: 6|        Unnamed: 7|\n",
            "+----------+--------------------+----------------+------------------+-------------------+------------------+-------------------+------------------+\n",
            "|      null|13.  Número de Un...|            null|              null|               null|              null|               null|              null|\n",
            "|      null|                null|            null|              null|               null|              null|               null|              null|\n",
            "|      null|                null|            null|              null|   Tipo de Colmenas|              null|               null|              null|\n",
            "|      null|Total Nacional - ...|           Total|              null|Colmenas Modernas 5|              null|Colmenas Rústicas 6|              null|\n",
            "|      null|                null|Número de UPA3,4|Número de colmenas|     Número de UPA4|Número de colmenas|     Número de UPA4|Número de colmenas|\n",
            "|      null|      Total Nacional|            5909|            333037|               4997|            306758|                995|             26279|\n",
            "|      null|Región de Arica y...|               6|                53|                  5|                49|                  2|                 4|\n",
            "|      null| Región de Tarapacá |               8|                48|                  4|                18|                  4|                30|\n",
            "|      null|Región de Antofag...|               7|                25|                  5|                21|                  2|                 4|\n",
            "|      null|   Región de Atacama|              30|               359|                 24|               332|                  6|                27|\n",
            "|      null|  Región de Coquimbo|             297|              6448|                230|              5921|                 70|               527|\n",
            "|      null|Región de Valparaíso|             186|             24658|                165|             22541|                 22|              2117|\n",
            "|      null|Región Metropolit...|             209|             29572|                188|             29298|                 23|               274|\n",
            "|      null|Región del Libert...|             387|             50291|                353|             48967|                 34|              1324|\n",
            "|      null|    Región del Maule|             686|             63887|                597|             53961|                 95|              9926|\n",
            "|      null|     Región de Ñuble|             444|             38936|                386|             36789|                 61|              2147|\n",
            "|      null|  Región del Biobío |             947|             36048|                824|             33951|                130|              2097|\n",
            "|      null|Región de La Arau...|            1690|             38489|               1402|             34933|                319|              3556|\n",
            "|      null|  Región de Los Ríos|             456|             16781|                398|             15987|                 65|               794|\n",
            "|      null| Región de Los Lagos|             536|             27070|                402|             23666|                155|              3404|\n",
            "+----------+--------------------+----------------+------------------+-------------------+------------------+-------------------+------------------+\n",
            "only showing top 20 rows\n",
            "\n"
          ]
        }
      ]
    },
    {
      "cell_type": "code",
      "source": [
        "# Drop rows with null values on selected columns\n",
        "\n",
        "columns = df_spark.columns\n",
        "\n",
        "new_df = df_spark.na.drop(\n",
        "              subset=columns[2:],how=\"all\"\n",
        "            )\n",
        "new_df.show(32)"
      ],
      "metadata": {
        "colab": {
          "base_uri": "https://localhost:8080/"
        },
        "id": "C8ZDVxAuF_Ua",
        "outputId": "4333563a-9457-44a8-ac2e-4fdc0066aa5a"
      },
      "execution_count": 64,
      "outputs": [
        {
          "output_type": "stream",
          "name": "stdout",
          "text": [
            "+----------+--------------------+----------------+------------------+-------------------+------------------+-------------------+------------------+\n",
            "|Unnamed: 0|          Unnamed: 1|      Unnamed: 2|        Unnamed: 3|         Unnamed: 4|        Unnamed: 5|         Unnamed: 6|        Unnamed: 7|\n",
            "+----------+--------------------+----------------+------------------+-------------------+------------------+-------------------+------------------+\n",
            "|      null|                null|            null|              null|   Tipo de Colmenas|              null|               null|              null|\n",
            "|      null|Total Nacional - ...|           Total|              null|Colmenas Modernas 5|              null|Colmenas Rústicas 6|              null|\n",
            "|      null|                null|Número de UPA3,4|Número de colmenas|     Número de UPA4|Número de colmenas|     Número de UPA4|Número de colmenas|\n",
            "|      null|      Total Nacional|            5909|            333037|               4997|            306758|                995|             26279|\n",
            "|      null|Región de Arica y...|               6|                53|                  5|                49|                  2|                 4|\n",
            "|      null| Región de Tarapacá |               8|                48|                  4|                18|                  4|                30|\n",
            "|      null|Región de Antofag...|               7|                25|                  5|                21|                  2|                 4|\n",
            "|      null|   Región de Atacama|              30|               359|                 24|               332|                  6|                27|\n",
            "|      null|  Región de Coquimbo|             297|              6448|                230|              5921|                 70|               527|\n",
            "|      null|Región de Valparaíso|             186|             24658|                165|             22541|                 22|              2117|\n",
            "|      null|Región Metropolit...|             209|             29572|                188|             29298|                 23|               274|\n",
            "|      null|Región del Libert...|             387|             50291|                353|             48967|                 34|              1324|\n",
            "|      null|    Región del Maule|             686|             63887|                597|             53961|                 95|              9926|\n",
            "|      null|     Región de Ñuble|             444|             38936|                386|             36789|                 61|              2147|\n",
            "|      null|  Región del Biobío |             947|             36048|                824|             33951|                130|              2097|\n",
            "|      null|Región de La Arau...|            1690|             38489|               1402|             34933|                319|              3556|\n",
            "|      null|  Región de Los Ríos|             456|             16781|                398|             15987|                 65|               794|\n",
            "|      null| Región de Los Lagos|             536|             27070|                402|             23666|                155|              3404|\n",
            "|      null|Región de Aysén d...|              29|               366|                 22|               318|                  7|                48|\n",
            "|      null|Región de Magalla...|               1|                 6|                  1|                 6|                  0|                 0|\n",
            "+----------+--------------------+----------------+------------------+-------------------+------------------+-------------------+------------------+\n",
            "\n"
          ]
        }
      ]
    },
    {
      "cell_type": "code",
      "source": [
        "from pyspark.sql import functions as F\n",
        "# Drop null columns\n",
        "null_counts = new_df.select(\n",
        "                [\n",
        "                    F.count(\n",
        "                        F.when(\n",
        "                            F.col(a).isNull(), a\n",
        "                            )\n",
        "                        ).alias(a) \n",
        "                    for a in new_df.columns\n",
        "                 ]\n",
        "              ).collect()[0].asDict()\n",
        "\n",
        "to_delete = [ p for p, u in null_counts.items() if u == new_df.count() ]\n",
        "\n",
        "new_df.drop(*to_delete).show(truncate=True)\n"
      ],
      "metadata": {
        "colab": {
          "base_uri": "https://localhost:8080/"
        },
        "id": "RI_X6vL_MY_m",
        "outputId": "6eba80ed-af62-4773-86f5-4715238f852f"
      },
      "execution_count": 65,
      "outputs": [
        {
          "output_type": "stream",
          "name": "stdout",
          "text": [
            "+--------------------+----------------+------------------+-------------------+------------------+-------------------+------------------+\n",
            "|          Unnamed: 1|      Unnamed: 2|        Unnamed: 3|         Unnamed: 4|        Unnamed: 5|         Unnamed: 6|        Unnamed: 7|\n",
            "+--------------------+----------------+------------------+-------------------+------------------+-------------------+------------------+\n",
            "|                null|            null|              null|   Tipo de Colmenas|              null|               null|              null|\n",
            "|Total Nacional - ...|           Total|              null|Colmenas Modernas 5|              null|Colmenas Rústicas 6|              null|\n",
            "|                null|Número de UPA3,4|Número de colmenas|     Número de UPA4|Número de colmenas|     Número de UPA4|Número de colmenas|\n",
            "|      Total Nacional|            5909|            333037|               4997|            306758|                995|             26279|\n",
            "|Región de Arica y...|               6|                53|                  5|                49|                  2|                 4|\n",
            "| Región de Tarapacá |               8|                48|                  4|                18|                  4|                30|\n",
            "|Región de Antofag...|               7|                25|                  5|                21|                  2|                 4|\n",
            "|   Región de Atacama|              30|               359|                 24|               332|                  6|                27|\n",
            "|  Región de Coquimbo|             297|              6448|                230|              5921|                 70|               527|\n",
            "|Región de Valparaíso|             186|             24658|                165|             22541|                 22|              2117|\n",
            "|Región Metropolit...|             209|             29572|                188|             29298|                 23|               274|\n",
            "|Región del Libert...|             387|             50291|                353|             48967|                 34|              1324|\n",
            "|    Región del Maule|             686|             63887|                597|             53961|                 95|              9926|\n",
            "|     Región de Ñuble|             444|             38936|                386|             36789|                 61|              2147|\n",
            "|  Región del Biobío |             947|             36048|                824|             33951|                130|              2097|\n",
            "|Región de La Arau...|            1690|             38489|               1402|             34933|                319|              3556|\n",
            "|  Región de Los Ríos|             456|             16781|                398|             15987|                 65|               794|\n",
            "| Región de Los Lagos|             536|             27070|                402|             23666|                155|              3404|\n",
            "|Región de Aysén d...|              29|               366|                 22|               318|                  7|                48|\n",
            "|Región de Magalla...|               1|                 6|                  1|                 6|                  0|                 0|\n",
            "+--------------------+----------------+------------------+-------------------+------------------+-------------------+------------------+\n",
            "\n"
          ]
        }
      ]
    },
    {
      "cell_type": "code",
      "source": [
        "from pyspark.sql.functions import udf\n",
        "# Removing non ascii and special characteres in columns\n",
        "def ascii_ignore(x):\n",
        "    return x.encode('ascii', 'ignore').decode('ascii')\n",
        "\n",
        "ascii_udf = udf(ascii_ignore)\n",
        "\n",
        "df.withColumn(\"foo\", ascii_udf('words')).show()"
      ],
      "metadata": {
        "id": "eFdYPGqKOxxT"
      },
      "execution_count": 66,
      "outputs": []
    },
    {
      "cell_type": "code",
      "source": [
        "# Calculating Pi values using PySpark\n",
        "import random\n",
        "NUM_SAMPLES = 100000000\n",
        "def inside(p):\n",
        "  x, y = random.random(), random.random()\n",
        "  return x*x + y*y < 1\n",
        "\n",
        "count = s_context.parallelize(range(0, NUM_SAMPLES)).filter(inside).count()\n",
        "pi = 4 * count / NUM_SAMPLES\n",
        "print(\"Pi is roughly\", pi)"
      ],
      "metadata": {
        "colab": {
          "base_uri": "https://localhost:8080/"
        },
        "id": "1Dq7LwGQJ0-h",
        "outputId": "33184ea1-2965-4a21-9f32-e2e2a7d01278"
      },
      "execution_count": 8,
      "outputs": [
        {
          "output_type": "stream",
          "name": "stdout",
          "text": [
            "Pi is roughly 3.14147652\n"
          ]
        }
      ]
    },
    {
      "cell_type": "markdown",
      "source": [
        "# References\n",
        "\n",
        "\n",
        "\n",
        "\n",
        "*   [Install PySpark 3 on Google Colab the Easy Way](https://medium.com/grabngoinfo/install-pyspark-3-on-google-colab-the-easy-way-577ec4a2bcd8)\n",
        "*   [Introduction to PySpark](https://medium.com/the-researchers-guide/introduction-to-pyspark-a61f7217398e#:~:text=The%20first%20step%20would%20be,perform%20data%20loading%20and%20manipulations.&text=The%20next%20step%20is%20to,and%20instantiating%20with%20getOrCreate(%20).)\n",
        "*   [How to Get Started with PySpark: compute power](https://towardsdatascience.com/how-to-get-started-with-pyspark-1adc142456ec?gi=10f32e5a2155)\n",
        "*   [Dataframes and Big Data](https://medium.com/analytics-vidhya/introduction-to-pyspark-take-your-first-steps-into-big-data-analytics-b98cf7dce8b3)\n",
        "\n",
        "\n",
        "\n",
        "\n",
        "\n",
        "\n",
        "\n",
        "\n"
      ],
      "metadata": {
        "id": "F7uak4OJIzEz"
      }
    },
    {
      "cell_type": "markdown",
      "source": [
        "## D. Cleaning messy data whyqd"
      ],
      "metadata": {
        "id": "ekZJmNMcANvx"
      }
    },
    {
      "cell_type": "code",
      "source": [
        "!pip install whyqd\n",
        "#whyqd-0.6.2 \n",
        "#xlrd-2.0.1"
      ],
      "metadata": {
        "id": "8e0a9VOVQf1z"
      },
      "execution_count": null,
      "outputs": []
    },
    {
      "cell_type": "code",
      "execution_count": null,
      "metadata": {
        "id": "VxRbeobdPnFg"
      },
      "outputs": [],
      "source": [
        "import whyqd\n",
        "SCHEMA_SOURCE = \"/full/path_to/2020_rates_data_schema.json\"\n",
        "DIRECTORY = \"/path_to/working/directory/\"\n",
        "    # Note: these links may no longer work when you follow this tutorial. Get the latest ones...\n",
        "INPUT_DATA = [\n",
        "            \"https://www.portsmouth.gov.uk/ext/documents-external/biz-ndr-properties-january-2020.xls\",\n",
        "            \"https://www.portsmouth.gov.uk/ext/documents-external/biz-ndr-reliefs-january-2020.xls\",\n",
        "            \"https://www.portsmouth.gov.uk/ext/documents-external/biz-empty-commercial-properties-january-2020.xls\"]\n",
        "method = whyqd.Method(directory=DIRECTORY, schema=SCHEMA)\n",
        "method.add_data(source=INPUT_DATA)"
      ]
    }
  ]
}