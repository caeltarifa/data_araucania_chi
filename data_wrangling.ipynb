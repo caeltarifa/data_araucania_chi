{
  "nbformat": 4,
  "nbformat_minor": 0,
  "metadata": {
    "colab": {
      "provenance": [],
      "collapsed_sections": [
        "HuJ4idPSFHAn"
      ],
      "mount_file_id": "12nx6q6z5ezu9cFD_oe0smE5bianCXjM9",
      "authorship_tag": "ABX9TyM7UIAQsQDAFFvNNy6X9hwh"
    },
    "kernelspec": {
      "name": "python3",
      "display_name": "Python 3"
    },
    "language_info": {
      "name": "python"
    }
  },
  "cells": [
    {
      "cell_type": "markdown",
      "source": [
        "# Data wrangling over excel files\n",
        "\n",
        "---\n",
        "\n"
      ],
      "metadata": {
        "id": "sV7rqaCK_8gR"
      }
    },
    {
      "cell_type": "code",
      "source": [
        "!pip install polars \n",
        "!pip install xlsx2csv"
      ],
      "metadata": {
        "id": "TNHaUwwR_XUe",
        "colab": {
          "base_uri": "https://localhost:8080/"
        },
        "outputId": "0d0409b9-a7ab-4116-fc8a-57dfb157b562"
      },
      "execution_count": 181,
      "outputs": [
        {
          "output_type": "stream",
          "name": "stdout",
          "text": [
            "Looking in indexes: https://pypi.org/simple, https://us-python.pkg.dev/colab-wheels/public/simple/\n",
            "Requirement already satisfied: polars in /usr/local/lib/python3.8/dist-packages (0.15.8)\n",
            "Requirement already satisfied: typing_extensions>=4.0.0 in /usr/local/lib/python3.8/dist-packages (from polars) (4.4.0)\n",
            "Looking in indexes: https://pypi.org/simple, https://us-python.pkg.dev/colab-wheels/public/simple/\n",
            "Requirement already satisfied: xlsx2csv in /usr/local/lib/python3.8/dist-packages (0.8.0)\n"
          ]
        }
      ]
    },
    {
      "cell_type": "code",
      "source": [
        "import polars as pl\n",
        "import xlrd as xls\n",
        "import numpy as np"
      ],
      "metadata": {
        "id": "eHaH_2wu_Qk1"
      },
      "execution_count": 182,
      "outputs": []
    },
    {
      "cell_type": "markdown",
      "source": [
        "> ## **A prior implementation**: descriptions are included"
      ],
      "metadata": {
        "id": "RkIwrnDeAC9h"
      }
    },
    {
      "cell_type": "code",
      "source": [
        "file = \"/content/data_income/existencias-animales.xlsx\"\n",
        "file = \"/content/data_income/actividad-principal-region.xlsx\"\n",
        "file = \"/content/data_income/existencias-colmenas.xlsx\""
      ],
      "metadata": {
        "id": "_fJWqKscHnhK"
      },
      "execution_count": 306,
      "outputs": []
    },
    {
      "cell_type": "code",
      "source": [
        "get_ini = lambda x, xs: [index+1 for (name, pibot, index) in zip(xs, [\"><\"]+xs, range(len(xs))) if name == pibot]\n",
        "get_indexes = lambda x, xs: [i for (y, i) in zip(xs, range(len(xs))) if x == y]\n",
        "del_duplicate = lambda xs: [name for (name, pibot) in zip(xs, [\"><\"]+xs) if name != pibot]\n",
        "## Filling up empty space within the row\n",
        "filling_data = lambda xs: [ xs[i-1] if ( xs[i]==\"\" and i>0 ) else xs[i] for i in range(len(xs)) ]"
      ],
      "metadata": {
        "id": "Q8YpDuIEgyqw"
      },
      "execution_count": 307,
      "outputs": []
    },
    {
      "cell_type": "markdown",
      "source": [
        "Obtaining indexes for sectoring data content"
      ],
      "metadata": {
        "id": "2TbM42va3NKD"
      }
    },
    {
      "cell_type": "code",
      "source": [
        "work_book = xls.open_workbook(file)\n",
        "work_book = work_book.sheet_by_index(0)\n",
        "\n",
        "column = 1\n",
        "\n",
        "array_col = work_book.col_values(column)[1:]\n",
        "#array_col = del_duplicate(array_col)\n",
        "\n",
        "*a,ini,fin = get_indexes(\"\", array_col)\n",
        "\n",
        "## Filling up empty space within the row\n",
        "array_col = filling_data(array_col)\n",
        "\n",
        "## Keeping range that it cotains data\n",
        "array_col = array_col[ini: fin]\n",
        "print(array_col)"
      ],
      "metadata": {
        "id": "RcaoulQtH_5I",
        "colab": {
          "base_uri": "https://localhost:8080/"
        },
        "outputId": "16f3b192-c68e-4155-d5a5-07e7da1f53f2"
      },
      "execution_count": 308,
      "outputs": [
        {
          "output_type": "stream",
          "name": "stdout",
          "text": [
            "['Total Nacional - Región', 'Total Nacional', 'Región de Arica y Parinacota', 'Región de Tarapacá ', 'Región de Antofagasta', 'Región de Atacama', 'Región de Coquimbo', 'Región de Valparaíso', 'Región Metropolitana de Santiago', \"Región del Libertador General Bernardo O'Higgins\", 'Región del Maule', 'Región de Ñuble', 'Región del Biobío ', 'Región de La Araucanía', 'Región de Los Ríos', 'Región de Los Lagos', 'Región de Aysén del General Carlos Ibáñez del Campo', 'Región de Magallanes y de la Antártica Chilena']\n"
          ]
        }
      ]
    },
    {
      "cell_type": "markdown",
      "source": [
        "Selecting columns as arrays\n",
        "Sizing data of the columns\n",
        "Data normalization\n",
        "Storing arrays into fields\n",
        "\n",
        "This process will finish when there are no more columns with data"
      ],
      "metadata": {
        "id": "Ab-BkzLN-yNz"
      }
    },
    {
      "cell_type": "code",
      "source": [
        "fields = np.array(array_col)\n",
        "\n",
        "column=2\n",
        "while True:\n",
        "  try:\n",
        "    array_col = work_book.col_values(column)[1:]\n",
        "    #array_col = del_duplicate(array_col)\n",
        "    \n",
        "    ## Filling up empty space within the row\n",
        "    array_col = filling_data(array_col)\n",
        "\n",
        "    array_col = array_col[ini:fin]\n",
        "    column+=1\n",
        "\n",
        "    ## Data normalization\n",
        "    array_col = np.char.lower(array_col)\n",
        "    array_col = np.char.replace(array_col, \" \", \"_\")\n",
        "\n",
        "    #print(array_col)\n",
        "    fields = np.row_stack((fields, array_col))\n",
        "  except:\n",
        "    print(\"Ending column\")\n",
        "    break\n",
        "print(fields)"
      ],
      "metadata": {
        "colab": {
          "base_uri": "https://localhost:8080/"
        },
        "id": "w-I_w9djqheZ",
        "outputId": "e4a084e9-c3c9-4845-b811-17316639ec4e"
      },
      "execution_count": 309,
      "outputs": [
        {
          "output_type": "stream",
          "name": "stdout",
          "text": [
            "Ending column\n",
            "[['Total Nacional - Región' 'Total Nacional'\n",
            "  'Región de Arica y Parinacota' 'Región de Tarapacá '\n",
            "  'Región de Antofagasta' 'Región de Atacama' 'Región de Coquimbo'\n",
            "  'Región de Valparaíso' 'Región Metropolitana de Santiago'\n",
            "  \"Región del Libertador General Bernardo O'Higgins\" 'Región del Maule'\n",
            "  'Región de Ñuble' 'Región del Biobío ' 'Región de La Araucanía'\n",
            "  'Región de Los Ríos' 'Región de Los Lagos'\n",
            "  'Región de Aysén del General Carlos Ibáñez del Campo'\n",
            "  'Región de Magallanes y de la Antártica Chilena']\n",
            " ['número_de_upa3,4' '5909.0' '6.0' '8.0' '7.0' '30.0' '297.0' '186.0'\n",
            "  '209.0' '387.0' '686.0' '444.0' '947.0' '1690.0' '456.0' '536.0' '29.0'\n",
            "  '1.0']\n",
            " ['número_de_colmenas' '333037.0' '53.0' '48.0' '25.0' '359.0' '6448.0'\n",
            "  '24658.0' '29572.0' '50291.0' '63887.0' '38936.0' '36048.0' '38489.0'\n",
            "  '16781.0' '27070.0' '366.0' '6.0']\n",
            " ['número_de_upa4' '4997.0' '5.0' '4.0' '5.0' '24.0' '230.0' '165.0'\n",
            "  '188.0' '353.0' '597.0' '386.0' '824.0' '1402.0' '398.0' '402.0' '22.0'\n",
            "  '1.0']\n",
            " ['número_de_colmenas' '306758.0' '49.0' '18.0' '21.0' '332.0' '5921.0'\n",
            "  '22541.0' '29298.0' '48967.0' '53961.0' '36789.0' '33951.0' '34933.0'\n",
            "  '15987.0' '23666.0' '318.0' '6.0']\n",
            " ['número_de_upa4' '995.0' '2.0' '4.0' '2.0' '6.0' '70.0' '22.0' '23.0'\n",
            "  '34.0' '95.0' '61.0' '130.0' '319.0' '65.0' '155.0' '7.0' '0.0']\n",
            " ['número_de_colmenas' '26279.0' '4.0' '30.0' '4.0' '27.0' '527.0'\n",
            "  '2117.0' '274.0' '1324.0' '9926.0' '2147.0' '2097.0' '3556.0' '794.0'\n",
            "  '3404.0' '48.0' '0.0']]\n"
          ]
        }
      ]
    },
    {
      "cell_type": "markdown",
      "source": [
        "Removing rows with lots of null values to get title for the dataframe"
      ],
      "metadata": {
        "id": "es8wkMZe46Fj"
      }
    },
    {
      "cell_type": "code",
      "source": [
        "array_to_dataframe = np.transpose(fields)\n",
        "\n",
        "pos = 0\n",
        "normal_long = len(array_to_dataframe[pos])\n",
        "\n",
        "while True:\n",
        "  titles = array_to_dataframe[pos]\n",
        "  out_arr = np.char.count(titles, sub ='', start=1, end=1)\n",
        "  actual_long = np.sum(out_arr)\n",
        "  if not len(out_arr) == actual_long :\n",
        "    array_to_dataframe = array_to_dataframe[1:]\n",
        "  else:\n",
        "    break\n",
        "\n",
        "titles = np.char.lower(titles)\n",
        "titles = np.char.replace(titles, \" \", \"_\")\n",
        "\n",
        "for i in range(len(titles)):\n",
        "  titles[i] = titles[i] +\"_\"+ str(i)\n",
        "\n",
        "print(titles)"
      ],
      "metadata": {
        "colab": {
          "base_uri": "https://localhost:8080/"
        },
        "id": "zcLgd29nl3dQ",
        "outputId": "72eededa-9c20-4951-d4ae-9d5872167874"
      },
      "execution_count": 316,
      "outputs": [
        {
          "output_type": "stream",
          "name": "stdout",
          "text": [
            "['total_nacional_-_región' 'número_de_upa3,4_1' 'número_de_colmenas_2'\n",
            " 'número_de_upa4_3' 'número_de_colmenas_4' 'número_de_upa4_5'\n",
            " 'número_de_colmenas_6']\n"
          ]
        }
      ]
    },
    {
      "cell_type": "markdown",
      "source": [
        "Showing the datafram"
      ],
      "metadata": {
        "id": "6it8Ti8O5PaS"
      }
    },
    {
      "cell_type": "code",
      "source": [
        "df_polar = pl.from_numpy(data=array_to_dataframe, columns=list(titles),)\n",
        "pl.from_numpy\n",
        "df_polar = df_polar[1:]\n",
        "print(df_polar)\n",
        "\n",
        "file = file.replace(\"_income\",\"_outcome\")\n",
        "df_polar.write_csv(file.split('.')[0]+'.csv')\n"
      ],
      "metadata": {
        "colab": {
          "base_uri": "https://localhost:8080/"
        },
        "id": "KaU46lQn43G2",
        "outputId": "a197fe7b-547c-4987-c2d2-a62ecece62e4"
      },
      "execution_count": 317,
      "outputs": [
        {
          "output_type": "stream",
          "name": "stdout",
          "text": [
            "shape: (17, 7)\n",
            "┌────────────┬────────────┬────────────┬──────────────┬──────────────┬──────────────┬──────────────┐\n",
            "│ total_naci ┆ número_de_ ┆ número_de_ ┆ número_de_up ┆ número_de_co ┆ número_de_up ┆ número_de_co │\n",
            "│ onal_-_reg ┆ upa3,4_1   ┆ colmenas_2 ┆ a4_3         ┆ lmenas_4     ┆ a4_5         ┆ lmenas_6     │\n",
            "│ ión        ┆ ---        ┆ ---        ┆ ---          ┆ ---          ┆ ---          ┆ ---          │\n",
            "│ ---        ┆ str        ┆ str        ┆ str          ┆ str          ┆ str          ┆ str          │\n",
            "│ str        ┆            ┆            ┆              ┆              ┆              ┆              │\n",
            "╞════════════╪════════════╪════════════╪══════════════╪══════════════╪══════════════╪══════════════╡\n",
            "│ Total      ┆ 5909.0     ┆ 333037.0   ┆ 4997.0       ┆ 306758.0     ┆ 995.0        ┆ 26279.0      │\n",
            "│ Nacional   ┆            ┆            ┆              ┆              ┆              ┆              │\n",
            "├╌╌╌╌╌╌╌╌╌╌╌╌┼╌╌╌╌╌╌╌╌╌╌╌╌┼╌╌╌╌╌╌╌╌╌╌╌╌┼╌╌╌╌╌╌╌╌╌╌╌╌╌╌┼╌╌╌╌╌╌╌╌╌╌╌╌╌╌┼╌╌╌╌╌╌╌╌╌╌╌╌╌╌┼╌╌╌╌╌╌╌╌╌╌╌╌╌╌┤\n",
            "│ Región de  ┆ 6.0        ┆ 53.0       ┆ 5.0          ┆ 49.0         ┆ 2.0          ┆ 4.0          │\n",
            "│ Arica y    ┆            ┆            ┆              ┆              ┆              ┆              │\n",
            "│ Parinacota ┆            ┆            ┆              ┆              ┆              ┆              │\n",
            "├╌╌╌╌╌╌╌╌╌╌╌╌┼╌╌╌╌╌╌╌╌╌╌╌╌┼╌╌╌╌╌╌╌╌╌╌╌╌┼╌╌╌╌╌╌╌╌╌╌╌╌╌╌┼╌╌╌╌╌╌╌╌╌╌╌╌╌╌┼╌╌╌╌╌╌╌╌╌╌╌╌╌╌┼╌╌╌╌╌╌╌╌╌╌╌╌╌╌┤\n",
            "│ Región de  ┆ 8.0        ┆ 48.0       ┆ 4.0          ┆ 18.0         ┆ 4.0          ┆ 30.0         │\n",
            "│ Tarapacá   ┆            ┆            ┆              ┆              ┆              ┆              │\n",
            "├╌╌╌╌╌╌╌╌╌╌╌╌┼╌╌╌╌╌╌╌╌╌╌╌╌┼╌╌╌╌╌╌╌╌╌╌╌╌┼╌╌╌╌╌╌╌╌╌╌╌╌╌╌┼╌╌╌╌╌╌╌╌╌╌╌╌╌╌┼╌╌╌╌╌╌╌╌╌╌╌╌╌╌┼╌╌╌╌╌╌╌╌╌╌╌╌╌╌┤\n",
            "│ Región de  ┆ 7.0        ┆ 25.0       ┆ 5.0          ┆ 21.0         ┆ 2.0          ┆ 4.0          │\n",
            "│ Antofagast ┆            ┆            ┆              ┆              ┆              ┆              │\n",
            "│ a          ┆            ┆            ┆              ┆              ┆              ┆              │\n",
            "├╌╌╌╌╌╌╌╌╌╌╌╌┼╌╌╌╌╌╌╌╌╌╌╌╌┼╌╌╌╌╌╌╌╌╌╌╌╌┼╌╌╌╌╌╌╌╌╌╌╌╌╌╌┼╌╌╌╌╌╌╌╌╌╌╌╌╌╌┼╌╌╌╌╌╌╌╌╌╌╌╌╌╌┼╌╌╌╌╌╌╌╌╌╌╌╌╌╌┤\n",
            "│ ...        ┆ ...        ┆ ...        ┆ ...          ┆ ...          ┆ ...          ┆ ...          │\n",
            "├╌╌╌╌╌╌╌╌╌╌╌╌┼╌╌╌╌╌╌╌╌╌╌╌╌┼╌╌╌╌╌╌╌╌╌╌╌╌┼╌╌╌╌╌╌╌╌╌╌╌╌╌╌┼╌╌╌╌╌╌╌╌╌╌╌╌╌╌┼╌╌╌╌╌╌╌╌╌╌╌╌╌╌┼╌╌╌╌╌╌╌╌╌╌╌╌╌╌┤\n",
            "│ Región de  ┆ 456.0      ┆ 16781.0    ┆ 398.0        ┆ 15987.0      ┆ 65.0         ┆ 794.0        │\n",
            "│ Los Ríos   ┆            ┆            ┆              ┆              ┆              ┆              │\n",
            "├╌╌╌╌╌╌╌╌╌╌╌╌┼╌╌╌╌╌╌╌╌╌╌╌╌┼╌╌╌╌╌╌╌╌╌╌╌╌┼╌╌╌╌╌╌╌╌╌╌╌╌╌╌┼╌╌╌╌╌╌╌╌╌╌╌╌╌╌┼╌╌╌╌╌╌╌╌╌╌╌╌╌╌┼╌╌╌╌╌╌╌╌╌╌╌╌╌╌┤\n",
            "│ Región de  ┆ 536.0      ┆ 27070.0    ┆ 402.0        ┆ 23666.0      ┆ 155.0        ┆ 3404.0       │\n",
            "│ Los Lagos  ┆            ┆            ┆              ┆              ┆              ┆              │\n",
            "├╌╌╌╌╌╌╌╌╌╌╌╌┼╌╌╌╌╌╌╌╌╌╌╌╌┼╌╌╌╌╌╌╌╌╌╌╌╌┼╌╌╌╌╌╌╌╌╌╌╌╌╌╌┼╌╌╌╌╌╌╌╌╌╌╌╌╌╌┼╌╌╌╌╌╌╌╌╌╌╌╌╌╌┼╌╌╌╌╌╌╌╌╌╌╌╌╌╌┤\n",
            "│ Región de  ┆ 29.0       ┆ 366.0      ┆ 22.0         ┆ 318.0        ┆ 7.0          ┆ 48.0         │\n",
            "│ Aysén del  ┆            ┆            ┆              ┆              ┆              ┆              │\n",
            "│ General    ┆            ┆            ┆              ┆              ┆              ┆              │\n",
            "│ Carl...    ┆            ┆            ┆              ┆              ┆              ┆              │\n",
            "├╌╌╌╌╌╌╌╌╌╌╌╌┼╌╌╌╌╌╌╌╌╌╌╌╌┼╌╌╌╌╌╌╌╌╌╌╌╌┼╌╌╌╌╌╌╌╌╌╌╌╌╌╌┼╌╌╌╌╌╌╌╌╌╌╌╌╌╌┼╌╌╌╌╌╌╌╌╌╌╌╌╌╌┼╌╌╌╌╌╌╌╌╌╌╌╌╌╌┤\n",
            "│ Región de  ┆ 1.0        ┆ 6.0        ┆ 1.0          ┆ 6.0          ┆ 0.0          ┆ 0.0          │\n",
            "│ Magallanes ┆            ┆            ┆              ┆              ┆              ┆              │\n",
            "│ y de la    ┆            ┆            ┆              ┆              ┆              ┆              │\n",
            "│ Ant...     ┆            ┆            ┆              ┆              ┆              ┆              │\n",
            "└────────────┴────────────┴────────────┴──────────────┴──────────────┴──────────────┴──────────────┘\n"
          ]
        }
      ]
    },
    {
      "cell_type": "markdown",
      "source": [
        "> ## **Object-oriented programming**"
      ],
      "metadata": {
        "id": "HuJ4idPSFHAn"
      }
    },
    {
      "cell_type": "code",
      "source": [
        "!pip install polars \n",
        "!pip install xlsx2csv"
      ],
      "metadata": {
        "colab": {
          "base_uri": "https://localhost:8080/"
        },
        "outputId": "3a2db1bd-27e8-4203-d802-eb0172cc38e0",
        "id": "5WeVkJUPFHA0"
      },
      "execution_count": 188,
      "outputs": [
        {
          "output_type": "stream",
          "name": "stdout",
          "text": [
            "Looking in indexes: https://pypi.org/simple, https://us-python.pkg.dev/colab-wheels/public/simple/\n",
            "Requirement already satisfied: polars in /usr/local/lib/python3.8/dist-packages (0.15.8)\n",
            "Requirement already satisfied: typing_extensions>=4.0.0 in /usr/local/lib/python3.8/dist-packages (from polars) (4.4.0)\n",
            "Looking in indexes: https://pypi.org/simple, https://us-python.pkg.dev/colab-wheels/public/simple/\n",
            "Requirement already satisfied: xlsx2csv in /usr/local/lib/python3.8/dist-packages (0.8.0)\n"
          ]
        }
      ]
    },
    {
      "cell_type": "code",
      "source": [
        "import polars as pl\n",
        "import xlrd as xls\n",
        "import numpy as np"
      ],
      "metadata": {
        "id": "NhAC_Pw6FHA2"
      },
      "execution_count": 189,
      "outputs": []
    },
    {
      "cell_type": "code",
      "source": [
        "file = \"/content/existencias-animales.xlsx\""
      ],
      "metadata": {
        "id": "gMrkPZD-FHA2"
      },
      "execution_count": 190,
      "outputs": []
    },
    {
      "cell_type": "code",
      "source": [
        "get_ini = lambda x, xs: [index+1 for (name, pibot, index) in zip(xs, [\"><\"]+xs, range(len(xs))) if name == pibot]\n",
        "get_indexes = lambda x, xs: [i for (y, i) in zip(xs, range(len(xs))) if x == y]"
      ],
      "metadata": {
        "id": "rkQIyKvuFHA3"
      },
      "execution_count": 191,
      "outputs": []
    },
    {
      "cell_type": "markdown",
      "source": [
        "Obtaining indexes for sectoring data content"
      ],
      "metadata": {
        "id": "v1M9_pJGFHA3"
      }
    },
    {
      "cell_type": "code",
      "source": [
        "work_book = xls.open_workbook(file)\n",
        "work_book = work_book.sheet_by_index(0)\n",
        "\n",
        "column = 1\n",
        "\n",
        "array_col = work_book.col_values(column)[1:]\n",
        "ini = get_ini(\"\", array_col)[-1]\n",
        "fin = get_indexes(\"\", array_col)[-1]\n",
        "\n",
        "array_col = array_col[ini: fin]\n",
        "\n",
        "print(array_col)\n",
        "\n",
        "titles = array_col"
      ],
      "metadata": {
        "colab": {
          "base_uri": "https://localhost:8080/"
        },
        "outputId": "79b6866c-a539-4d74-c553-9521b9f5fc0f",
        "id": "a0mB8ZR-FHA3"
      },
      "execution_count": 192,
      "outputs": [
        {
          "output_type": "stream",
          "name": "stdout",
          "text": [
            "['Total Nacional - Región', 'Total Nacional', 'Región de Arica y Parinacota', 'Región de Tarapacá ', 'Región de Antofagasta', 'Región de Atacama', 'Región de Coquimbo', 'Región de Valparaíso', 'Región Metropolitana de Santiago', \"Región del Libertador General Bernardo O'Higgins\", 'Región del Maule', 'Región de Ñuble', 'Región del Biobío ', 'Región de La Araucanía', 'Región de Los Ríos', 'Región de Los Lagos', 'Región de Aysén del General Carlos Ibáñez del Campo', 'Región de Magallanes y de la Antártica Chilena']\n"
          ]
        }
      ]
    },
    {
      "cell_type": "markdown",
      "source": [
        "Selecting columns as arrays\n",
        "Sizing data of the columns\n",
        "Data normalization\n",
        "Storing arrays into fields\n",
        "\n",
        "This process will finish when there are no more columns with data"
      ],
      "metadata": {
        "id": "igm0MvtgFHA4"
      }
    },
    {
      "cell_type": "code",
      "source": [
        "fields = np.array(array_col)\n",
        "\n",
        "column=2\n",
        "while True:\n",
        "  try:\n",
        "    array_col = work_book.col_values(column)[1:]\n",
        "    array_col = array_col[ini:fin]\n",
        "    column+=1\n",
        "    ## Data normalization\n",
        "    array_col = np.char.lower(array_col)\n",
        "    array_col = np.char.replace(array_col, \" \", \"_\")\n",
        "    #print(array_col)\n",
        "    fields = np.row_stack((fields, array_col))\n",
        "  except:\n",
        "    print(\"Ending column\")\n",
        "    break"
      ],
      "metadata": {
        "colab": {
          "base_uri": "https://localhost:8080/"
        },
        "outputId": "89e125c9-9c3a-4e3c-d29f-04f780881b52",
        "id": "zAp1sn1UFHA4"
      },
      "execution_count": 193,
      "outputs": [
        {
          "output_type": "stream",
          "name": "stdout",
          "text": [
            "Ending column\n"
          ]
        }
      ]
    },
    {
      "cell_type": "code",
      "source": [
        "array_to_dataframe = np.transpose(fields)\n",
        "titles = array_to_dataframe[0]\n",
        "print(titles)\n",
        "\n",
        "\n",
        "df_polar = pl.from_numpy(data=array_to_dataframe, columns=list(titles),)\n",
        "df_polar = df_polar[1:]\n",
        "print(df_polar)\n",
        "\n",
        "df_polar.write_csv(file.split('.')[0]+'.csv')\n"
      ],
      "metadata": {
        "colab": {
          "base_uri": "https://localhost:8080/"
        },
        "outputId": "2087544d-0758-457c-e985-115e0194ee07",
        "id": "EVU4Y-gBFHA5"
      },
      "execution_count": 194,
      "outputs": [
        {
          "output_type": "stream",
          "name": "stdout",
          "text": [
            "['Total Nacional - Región' 'bovinos' 'ovinos' 'caprinos' 'porcinos'\n",
            " 'caballares' 'mulares_y_burdéganos' 'asnales' 'llamas' 'alpacas'\n",
            " 'huarizos' 'conejos' 'jabalíes' 'ciervos' 'gallinas/pollos_4_' 'pavos'\n",
            " 'otras_aves_de_corral_5']\n",
            "shape: (17, 17)\n",
            "┌────────────┬───────────┬───────────┬──────────┬─────┬─────────┬────────────┬───────────┬────────────┐\n",
            "│ Total      ┆ bovinos   ┆ ovinos    ┆ caprinos ┆ ... ┆ ciervos ┆ gallinas/p ┆ pavos     ┆ otras_aves │\n",
            "│ Nacional - ┆ ---       ┆ ---       ┆ ---      ┆     ┆ ---     ┆ ollos_4_   ┆ ---       ┆ _de_corral │\n",
            "│ Región     ┆ str       ┆ str       ┆ str      ┆     ┆ str     ┆ ---        ┆ str       ┆ _5         │\n",
            "│ ---        ┆           ┆           ┆          ┆     ┆         ┆ str        ┆           ┆ ---        │\n",
            "│ str        ┆           ┆           ┆          ┆     ┆         ┆            ┆           ┆ str        │\n",
            "╞════════════╪═══════════╪═══════════╪══════════╪═════╪═════════╪════════════╪═══════════╪════════════╡\n",
            "│ Total      ┆ 2474406.0 ┆ 2529238.0 ┆ 333436.0 ┆ ... ┆ 2149.0  ┆ 59417564.0 ┆ 2224054.0 ┆ 284014.0   │\n",
            "│ Nacional   ┆           ┆           ┆          ┆     ┆         ┆            ┆           ┆            │\n",
            "├╌╌╌╌╌╌╌╌╌╌╌╌┼╌╌╌╌╌╌╌╌╌╌╌┼╌╌╌╌╌╌╌╌╌╌╌┼╌╌╌╌╌╌╌╌╌╌┼╌╌╌╌╌┼╌╌╌╌╌╌╌╌╌┼╌╌╌╌╌╌╌╌╌╌╌╌┼╌╌╌╌╌╌╌╌╌╌╌┼╌╌╌╌╌╌╌╌╌╌╌╌┤\n",
            "│ Región de  ┆ 1011.0    ┆ 10175.0   ┆ 4151.0   ┆ ... ┆ 0.0     ┆ 1907903.0  ┆ 124.0     ┆ 597.0      │\n",
            "│ Arica y    ┆           ┆           ┆          ┆     ┆         ┆            ┆           ┆            │\n",
            "│ Parinacota ┆           ┆           ┆          ┆     ┆         ┆            ┆           ┆            │\n",
            "├╌╌╌╌╌╌╌╌╌╌╌╌┼╌╌╌╌╌╌╌╌╌╌╌┼╌╌╌╌╌╌╌╌╌╌╌┼╌╌╌╌╌╌╌╌╌╌┼╌╌╌╌╌┼╌╌╌╌╌╌╌╌╌┼╌╌╌╌╌╌╌╌╌╌╌╌┼╌╌╌╌╌╌╌╌╌╌╌┼╌╌╌╌╌╌╌╌╌╌╌╌┤\n",
            "│ Región de  ┆ 93.0      ┆ 11017.0   ┆ 6230.0   ┆ ... ┆ 0.0     ┆ 158905.0   ┆ 110.0     ┆ 993.0      │\n",
            "│ Tarapacá   ┆           ┆           ┆          ┆     ┆         ┆            ┆           ┆            │\n",
            "├╌╌╌╌╌╌╌╌╌╌╌╌┼╌╌╌╌╌╌╌╌╌╌╌┼╌╌╌╌╌╌╌╌╌╌╌┼╌╌╌╌╌╌╌╌╌╌┼╌╌╌╌╌┼╌╌╌╌╌╌╌╌╌┼╌╌╌╌╌╌╌╌╌╌╌╌┼╌╌╌╌╌╌╌╌╌╌╌┼╌╌╌╌╌╌╌╌╌╌╌╌┤\n",
            "│ Región de  ┆ 241.0     ┆ 5826.0    ┆ 3913.0   ┆ ... ┆ 2.0     ┆ 279220.0   ┆ 164.0     ┆ 1678.0     │\n",
            "│ Antofagast ┆           ┆           ┆          ┆     ┆         ┆            ┆           ┆            │\n",
            "│ a          ┆           ┆           ┆          ┆     ┆         ┆            ┆           ┆            │\n",
            "├╌╌╌╌╌╌╌╌╌╌╌╌┼╌╌╌╌╌╌╌╌╌╌╌┼╌╌╌╌╌╌╌╌╌╌╌┼╌╌╌╌╌╌╌╌╌╌┼╌╌╌╌╌┼╌╌╌╌╌╌╌╌╌┼╌╌╌╌╌╌╌╌╌╌╌╌┼╌╌╌╌╌╌╌╌╌╌╌┼╌╌╌╌╌╌╌╌╌╌╌╌┤\n",
            "│ ...        ┆ ...       ┆ ...       ┆ ...      ┆ ... ┆ ...     ┆ ...        ┆ ...       ┆ ...        │\n",
            "├╌╌╌╌╌╌╌╌╌╌╌╌┼╌╌╌╌╌╌╌╌╌╌╌┼╌╌╌╌╌╌╌╌╌╌╌┼╌╌╌╌╌╌╌╌╌╌┼╌╌╌╌╌┼╌╌╌╌╌╌╌╌╌┼╌╌╌╌╌╌╌╌╌╌╌╌┼╌╌╌╌╌╌╌╌╌╌╌┼╌╌╌╌╌╌╌╌╌╌╌╌┤\n",
            "│ Región de  ┆ 485638.0  ┆ 85294.0   ┆ 6538.0   ┆ ... ┆ 48.0    ┆ 220103.0   ┆ 5270.0    ┆ 31433.0    │\n",
            "│ Los Ríos   ┆           ┆           ┆          ┆     ┆         ┆            ┆           ┆            │\n",
            "├╌╌╌╌╌╌╌╌╌╌╌╌┼╌╌╌╌╌╌╌╌╌╌╌┼╌╌╌╌╌╌╌╌╌╌╌┼╌╌╌╌╌╌╌╌╌╌┼╌╌╌╌╌┼╌╌╌╌╌╌╌╌╌┼╌╌╌╌╌╌╌╌╌╌╌╌┼╌╌╌╌╌╌╌╌╌╌╌┼╌╌╌╌╌╌╌╌╌╌╌╌┤\n",
            "│ Región de  ┆ 774321.0  ┆ 227798.0  ┆ 9082.0   ┆ ... ┆ 310.0   ┆ 390138.0   ┆ 12893.0   ┆ 52368.0    │\n",
            "│ Los Lagos  ┆           ┆           ┆          ┆     ┆         ┆            ┆           ┆            │\n",
            "├╌╌╌╌╌╌╌╌╌╌╌╌┼╌╌╌╌╌╌╌╌╌╌╌┼╌╌╌╌╌╌╌╌╌╌╌┼╌╌╌╌╌╌╌╌╌╌┼╌╌╌╌╌┼╌╌╌╌╌╌╌╌╌┼╌╌╌╌╌╌╌╌╌╌╌╌┼╌╌╌╌╌╌╌╌╌╌╌┼╌╌╌╌╌╌╌╌╌╌╌╌┤\n",
            "│ Región de  ┆ 130832.0  ┆ 177934.0  ┆ 8175.0   ┆ ... ┆ 100.0   ┆ 45425.0    ┆ 3051.0    ┆ 5689.0     │\n",
            "│ Aysén del  ┆           ┆           ┆          ┆     ┆         ┆            ┆           ┆            │\n",
            "│ General    ┆           ┆           ┆          ┆     ┆         ┆            ┆           ┆            │\n",
            "│ Carl...    ┆           ┆           ┆          ┆     ┆         ┆            ┆           ┆            │\n",
            "├╌╌╌╌╌╌╌╌╌╌╌╌┼╌╌╌╌╌╌╌╌╌╌╌┼╌╌╌╌╌╌╌╌╌╌╌┼╌╌╌╌╌╌╌╌╌╌┼╌╌╌╌╌┼╌╌╌╌╌╌╌╌╌┼╌╌╌╌╌╌╌╌╌╌╌╌┼╌╌╌╌╌╌╌╌╌╌╌┼╌╌╌╌╌╌╌╌╌╌╌╌┤\n",
            "│ Región de  ┆ 126389.0  ┆ 1417421.0 ┆ 18.0     ┆ ... ┆ 132.0   ┆ 9694.0     ┆ 48.0      ┆ 494.0      │\n",
            "│ Magallanes ┆           ┆           ┆          ┆     ┆         ┆            ┆           ┆            │\n",
            "│ y de la    ┆           ┆           ┆          ┆     ┆         ┆            ┆           ┆            │\n",
            "│ Ant...     ┆           ┆           ┆          ┆     ┆         ┆            ┆           ┆            │\n",
            "└────────────┴───────────┴───────────┴──────────┴─────┴─────────┴────────────┴───────────┴────────────┘\n"
          ]
        }
      ]
    }
  ]
}