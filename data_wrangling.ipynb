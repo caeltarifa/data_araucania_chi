{
  "nbformat": 4,
  "nbformat_minor": 0,
  "metadata": {
    "colab": {
      "provenance": [],
      "toc_visible": true,
      "authorship_tag": "ABX9TyNOiHegunfUuACFS9IbnRLd"
    },
    "kernelspec": {
      "name": "python3",
      "display_name": "Python 3"
    },
    "language_info": {
      "name": "python"
    }
  },
  "cells": [
    {
      "cell_type": "markdown",
      "source": [
        "# Data wrangling over excel files\n",
        "\n",
        "---\n",
        "\n"
      ],
      "metadata": {
        "id": "sV7rqaCK_8gR"
      }
    },
    {
      "cell_type": "markdown",
      "source": [
        "> ## **A prior implementation**: descriptions are included"
      ],
      "metadata": {
        "id": "RkIwrnDeAC9h"
      }
    },
    {
      "cell_type": "code",
      "source": [
        "!pip install polars \n",
        "!pip install xlsx2csv"
      ],
      "metadata": {
        "id": "TNHaUwwR_XUe",
        "colab": {
          "base_uri": "https://localhost:8080/"
        },
        "outputId": "34d5bc04-89ab-45fc-b3b2-0ce7991d1f54"
      },
      "execution_count": 1,
      "outputs": [
        {
          "output_type": "stream",
          "name": "stdout",
          "text": [
            "Looking in indexes: https://pypi.org/simple, https://us-python.pkg.dev/colab-wheels/public/simple/\n",
            "Collecting polars\n",
            "  Downloading polars-0.15.8-cp37-abi3-manylinux_2_17_x86_64.manylinux2014_x86_64.whl (14.6 MB)\n",
            "\u001b[K     |████████████████████████████████| 14.6 MB 12.4 MB/s \n",
            "\u001b[?25hRequirement already satisfied: typing_extensions>=4.0.0 in /usr/local/lib/python3.8/dist-packages (from polars) (4.4.0)\n",
            "Installing collected packages: polars\n",
            "Successfully installed polars-0.15.8\n",
            "Looking in indexes: https://pypi.org/simple, https://us-python.pkg.dev/colab-wheels/public/simple/\n",
            "Collecting xlsx2csv\n",
            "  Downloading xlsx2csv-0.8.0-py3-none-any.whl (13 kB)\n",
            "Installing collected packages: xlsx2csv\n",
            "Successfully installed xlsx2csv-0.8.0\n"
          ]
        }
      ]
    },
    {
      "cell_type": "code",
      "source": [
        "import polars as pl\n",
        "import pandas as pd\n",
        "import xlrd as xls\n",
        "import numpy as np"
      ],
      "metadata": {
        "id": "eHaH_2wu_Qk1"
      },
      "execution_count": 2,
      "outputs": []
    },
    {
      "cell_type": "code",
      "source": [
        "file = \"/content/existencias-animales.xlsx\""
      ],
      "metadata": {
        "id": "_fJWqKscHnhK"
      },
      "execution_count": 3,
      "outputs": []
    },
    {
      "cell_type": "code",
      "source": [
        "get_ini = lambda x, xs: [index+1 for (name, pibot, index) in zip(xs, [\"><\"]+xs, range(len(xs))) if name == pibot]\n",
        "get_indexes = lambda x, xs: [i for (y, i) in zip(xs, range(len(xs))) if x == y]"
      ],
      "metadata": {
        "id": "Q8YpDuIEgyqw"
      },
      "execution_count": 40,
      "outputs": []
    },
    {
      "cell_type": "markdown",
      "source": [
        "Obtaining indexes for sectoring data content"
      ],
      "metadata": {
        "id": "2TbM42va3NKD"
      }
    },
    {
      "cell_type": "code",
      "source": [
        "work_book = xls.open_workbook(file)\n",
        "work_book = work_book.sheet_by_index(0)\n",
        "\n",
        "column = 1\n",
        "\n",
        "array_col = work_book.col_values(column)[1:]\n",
        "ini = get_ini(\"\", array_col)[-1]\n",
        "fin = get_indexes(\"\", array_col)[-1]\n",
        "\n",
        "array_col = array_col[ini: fin]\n",
        "\n",
        "print(array_col)\n",
        "\n",
        "titles = array_col"
      ],
      "metadata": {
        "id": "RcaoulQtH_5I",
        "colab": {
          "base_uri": "https://localhost:8080/"
        },
        "outputId": "45f2d726-7904-4de8-d869-00e51693c90f"
      },
      "execution_count": 73,
      "outputs": [
        {
          "output_type": "stream",
          "name": "stdout",
          "text": [
            "['Total Nacional - Región', 'Total Nacional', 'Región de Arica y Parinacota', 'Región de Tarapacá ', 'Región de Antofagasta', 'Región de Atacama', 'Región de Coquimbo', 'Región de Valparaíso', 'Región Metropolitana de Santiago', \"Región del Libertador General Bernardo O'Higgins\", 'Región del Maule', 'Región de Ñuble', 'Región del Biobío ', 'Región de La Araucanía', 'Región de Los Ríos', 'Región de Los Lagos', 'Región de Aysén del General Carlos Ibáñez del Campo', 'Región de Magallanes y de la Antártica Chilena']\n"
          ]
        }
      ]
    },
    {
      "cell_type": "markdown",
      "source": [
        "Selecting columns as arrays\n",
        "Sizing data of the columns\n",
        "Data normalization\n",
        "Storing arrays into fields\n",
        "\n",
        "This process will finish when there are no more columns with data"
      ],
      "metadata": {
        "id": "Ab-BkzLN-yNz"
      }
    },
    {
      "cell_type": "code",
      "source": [
        "fields = np.array(array_col)\n",
        "\n",
        "column=2\n",
        "while True:\n",
        "  try:\n",
        "    array_col = work_book.col_values(column)[1:]\n",
        "    array_col = array_col[ini:fin]\n",
        "    column+=1\n",
        "    ## Data normalization\n",
        "    array_col = np.char.lower(array_col)\n",
        "    array_col = np.char.replace(array_col, \" \", \"_\")\n",
        "    #print(array_col)\n",
        "    fields = np.row_stack((fields, array_col))\n",
        "  except:\n",
        "    print(\"Ending column\")\n",
        "    break"
      ],
      "metadata": {
        "colab": {
          "base_uri": "https://localhost:8080/"
        },
        "id": "w-I_w9djqheZ",
        "outputId": "dbe33c07-9a88-4420-9bdf-a3be540a1485"
      },
      "execution_count": 74,
      "outputs": [
        {
          "output_type": "stream",
          "name": "stdout",
          "text": [
            "3 21\n",
            "Ending column\n"
          ]
        }
      ]
    },
    {
      "cell_type": "code",
      "source": [
        "array_to_dataframe = np.transpose(fields)\n",
        "titles = array_to_dataframe[0]\n",
        "print(titles)\n",
        "\n",
        "\n",
        "df_polar = pl.from_numpy(data=array_to_dataframe, columns=list(titles),)\n",
        "df_polar = df_polar[1:]\n",
        "print(df_polar)\n",
        "\n",
        "df_polar.write_csv(file.split('.')[0]+'.csv')\n"
      ],
      "metadata": {
        "colab": {
          "base_uri": "https://localhost:8080/"
        },
        "id": "zcLgd29nl3dQ",
        "outputId": "7ea79cf3-a5cd-45fc-c0a8-ff4510239fc2"
      },
      "execution_count": 75,
      "outputs": [
        {
          "output_type": "stream",
          "name": "stdout",
          "text": [
            "['Total Nacional - Región' 'bovinos' 'ovinos' 'caprinos' 'porcinos'\n",
            " 'caballares' 'mulares_y_burdéganos' 'asnales' 'llamas' 'alpacas'\n",
            " 'huarizos' 'conejos' 'jabalíes' 'ciervos' 'gallinas/pollos_4_' 'pavos'\n",
            " 'otras_aves_de_corral_5']\n",
            "shape: (17, 17)\n",
            "┌────────────┬───────────┬───────────┬──────────┬─────┬─────────┬────────────┬───────────┬────────────┐\n",
            "│ Total      ┆ bovinos   ┆ ovinos    ┆ caprinos ┆ ... ┆ ciervos ┆ gallinas/p ┆ pavos     ┆ otras_aves │\n",
            "│ Nacional - ┆ ---       ┆ ---       ┆ ---      ┆     ┆ ---     ┆ ollos_4_   ┆ ---       ┆ _de_corral │\n",
            "│ Región     ┆ str       ┆ str       ┆ str      ┆     ┆ str     ┆ ---        ┆ str       ┆ _5         │\n",
            "│ ---        ┆           ┆           ┆          ┆     ┆         ┆ str        ┆           ┆ ---        │\n",
            "│ str        ┆           ┆           ┆          ┆     ┆         ┆            ┆           ┆ str        │\n",
            "╞════════════╪═══════════╪═══════════╪══════════╪═════╪═════════╪════════════╪═══════════╪════════════╡\n",
            "│ Total      ┆ 2474406.0 ┆ 2529238.0 ┆ 333436.0 ┆ ... ┆ 2149.0  ┆ 59417564.0 ┆ 2224054.0 ┆ 284014.0   │\n",
            "│ Nacional   ┆           ┆           ┆          ┆     ┆         ┆            ┆           ┆            │\n",
            "├╌╌╌╌╌╌╌╌╌╌╌╌┼╌╌╌╌╌╌╌╌╌╌╌┼╌╌╌╌╌╌╌╌╌╌╌┼╌╌╌╌╌╌╌╌╌╌┼╌╌╌╌╌┼╌╌╌╌╌╌╌╌╌┼╌╌╌╌╌╌╌╌╌╌╌╌┼╌╌╌╌╌╌╌╌╌╌╌┼╌╌╌╌╌╌╌╌╌╌╌╌┤\n",
            "│ Región de  ┆ 1011.0    ┆ 10175.0   ┆ 4151.0   ┆ ... ┆ 0.0     ┆ 1907903.0  ┆ 124.0     ┆ 597.0      │\n",
            "│ Arica y    ┆           ┆           ┆          ┆     ┆         ┆            ┆           ┆            │\n",
            "│ Parinacota ┆           ┆           ┆          ┆     ┆         ┆            ┆           ┆            │\n",
            "├╌╌╌╌╌╌╌╌╌╌╌╌┼╌╌╌╌╌╌╌╌╌╌╌┼╌╌╌╌╌╌╌╌╌╌╌┼╌╌╌╌╌╌╌╌╌╌┼╌╌╌╌╌┼╌╌╌╌╌╌╌╌╌┼╌╌╌╌╌╌╌╌╌╌╌╌┼╌╌╌╌╌╌╌╌╌╌╌┼╌╌╌╌╌╌╌╌╌╌╌╌┤\n",
            "│ Región de  ┆ 93.0      ┆ 11017.0   ┆ 6230.0   ┆ ... ┆ 0.0     ┆ 158905.0   ┆ 110.0     ┆ 993.0      │\n",
            "│ Tarapacá   ┆           ┆           ┆          ┆     ┆         ┆            ┆           ┆            │\n",
            "├╌╌╌╌╌╌╌╌╌╌╌╌┼╌╌╌╌╌╌╌╌╌╌╌┼╌╌╌╌╌╌╌╌╌╌╌┼╌╌╌╌╌╌╌╌╌╌┼╌╌╌╌╌┼╌╌╌╌╌╌╌╌╌┼╌╌╌╌╌╌╌╌╌╌╌╌┼╌╌╌╌╌╌╌╌╌╌╌┼╌╌╌╌╌╌╌╌╌╌╌╌┤\n",
            "│ Región de  ┆ 241.0     ┆ 5826.0    ┆ 3913.0   ┆ ... ┆ 2.0     ┆ 279220.0   ┆ 164.0     ┆ 1678.0     │\n",
            "│ Antofagast ┆           ┆           ┆          ┆     ┆         ┆            ┆           ┆            │\n",
            "│ a          ┆           ┆           ┆          ┆     ┆         ┆            ┆           ┆            │\n",
            "├╌╌╌╌╌╌╌╌╌╌╌╌┼╌╌╌╌╌╌╌╌╌╌╌┼╌╌╌╌╌╌╌╌╌╌╌┼╌╌╌╌╌╌╌╌╌╌┼╌╌╌╌╌┼╌╌╌╌╌╌╌╌╌┼╌╌╌╌╌╌╌╌╌╌╌╌┼╌╌╌╌╌╌╌╌╌╌╌┼╌╌╌╌╌╌╌╌╌╌╌╌┤\n",
            "│ ...        ┆ ...       ┆ ...       ┆ ...      ┆ ... ┆ ...     ┆ ...        ┆ ...       ┆ ...        │\n",
            "├╌╌╌╌╌╌╌╌╌╌╌╌┼╌╌╌╌╌╌╌╌╌╌╌┼╌╌╌╌╌╌╌╌╌╌╌┼╌╌╌╌╌╌╌╌╌╌┼╌╌╌╌╌┼╌╌╌╌╌╌╌╌╌┼╌╌╌╌╌╌╌╌╌╌╌╌┼╌╌╌╌╌╌╌╌╌╌╌┼╌╌╌╌╌╌╌╌╌╌╌╌┤\n",
            "│ Región de  ┆ 485638.0  ┆ 85294.0   ┆ 6538.0   ┆ ... ┆ 48.0    ┆ 220103.0   ┆ 5270.0    ┆ 31433.0    │\n",
            "│ Los Ríos   ┆           ┆           ┆          ┆     ┆         ┆            ┆           ┆            │\n",
            "├╌╌╌╌╌╌╌╌╌╌╌╌┼╌╌╌╌╌╌╌╌╌╌╌┼╌╌╌╌╌╌╌╌╌╌╌┼╌╌╌╌╌╌╌╌╌╌┼╌╌╌╌╌┼╌╌╌╌╌╌╌╌╌┼╌╌╌╌╌╌╌╌╌╌╌╌┼╌╌╌╌╌╌╌╌╌╌╌┼╌╌╌╌╌╌╌╌╌╌╌╌┤\n",
            "│ Región de  ┆ 774321.0  ┆ 227798.0  ┆ 9082.0   ┆ ... ┆ 310.0   ┆ 390138.0   ┆ 12893.0   ┆ 52368.0    │\n",
            "│ Los Lagos  ┆           ┆           ┆          ┆     ┆         ┆            ┆           ┆            │\n",
            "├╌╌╌╌╌╌╌╌╌╌╌╌┼╌╌╌╌╌╌╌╌╌╌╌┼╌╌╌╌╌╌╌╌╌╌╌┼╌╌╌╌╌╌╌╌╌╌┼╌╌╌╌╌┼╌╌╌╌╌╌╌╌╌┼╌╌╌╌╌╌╌╌╌╌╌╌┼╌╌╌╌╌╌╌╌╌╌╌┼╌╌╌╌╌╌╌╌╌╌╌╌┤\n",
            "│ Región de  ┆ 130832.0  ┆ 177934.0  ┆ 8175.0   ┆ ... ┆ 100.0   ┆ 45425.0    ┆ 3051.0    ┆ 5689.0     │\n",
            "│ Aysén del  ┆           ┆           ┆          ┆     ┆         ┆            ┆           ┆            │\n",
            "│ General    ┆           ┆           ┆          ┆     ┆         ┆            ┆           ┆            │\n",
            "│ Carl...    ┆           ┆           ┆          ┆     ┆         ┆            ┆           ┆            │\n",
            "├╌╌╌╌╌╌╌╌╌╌╌╌┼╌╌╌╌╌╌╌╌╌╌╌┼╌╌╌╌╌╌╌╌╌╌╌┼╌╌╌╌╌╌╌╌╌╌┼╌╌╌╌╌┼╌╌╌╌╌╌╌╌╌┼╌╌╌╌╌╌╌╌╌╌╌╌┼╌╌╌╌╌╌╌╌╌╌╌┼╌╌╌╌╌╌╌╌╌╌╌╌┤\n",
            "│ Región de  ┆ 126389.0  ┆ 1417421.0 ┆ 18.0     ┆ ... ┆ 132.0   ┆ 9694.0     ┆ 48.0      ┆ 494.0      │\n",
            "│ Magallanes ┆           ┆           ┆          ┆     ┆         ┆            ┆           ┆            │\n",
            "│ y de la    ┆           ┆           ┆          ┆     ┆         ┆            ┆           ┆            │\n",
            "│ Ant...     ┆           ┆           ┆          ┆     ┆         ┆            ┆           ┆            │\n",
            "└────────────┴───────────┴───────────┴──────────┴─────┴─────────┴────────────┴───────────┴────────────┘\n"
          ]
        }
      ]
    }
  ]
}