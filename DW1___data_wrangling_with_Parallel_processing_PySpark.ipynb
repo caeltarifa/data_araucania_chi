{
  "nbformat": 4,
  "nbformat_minor": 0,
  "metadata": {
    "colab": {
      "provenance": [],
      "authorship_tag": "ABX9TyPvktiirUbnYDKoQqkagdn5"
    },
    "kernelspec": {
      "name": "python3",
      "display_name": "Python 3"
    },
    "language_info": {
      "name": "python"
    }
  },
  "cells": [
    {
      "cell_type": "markdown",
      "source": [
        "# Hadling large dataset by PySpark"
      ],
      "metadata": {
        "id": "FiEOn7sp1oPA"
      }
    },
    {
      "cell_type": "markdown",
      "source": [
        "## Requirements"
      ],
      "metadata": {
        "id": "A8f1TKnvYo8m"
      }
    },
    {
      "cell_type": "code",
      "source": [
        "!pip install pyspark\n",
        "!pip install findspark\n",
        "!pip install unidecode"
      ],
      "metadata": {
        "colab": {
          "base_uri": "https://localhost:8080/"
        },
        "id": "Lxei0oli5ZE3",
        "outputId": "80ad0f60-bc43-41cf-9cfb-545cd7677e24"
      },
      "execution_count": 24,
      "outputs": [
        {
          "output_type": "stream",
          "name": "stdout",
          "text": [
            "Looking in indexes: https://pypi.org/simple, https://us-python.pkg.dev/colab-wheels/public/simple/\n",
            "Collecting pyspark\n",
            "  Downloading pyspark-3.3.1.tar.gz (281.4 MB)\n",
            "\u001b[2K     \u001b[90m━━━━━━━━━━━━━━━━━━━━━━━━━━━━━━━━━━━━━━━\u001b[0m \u001b[32m281.4/281.4 MB\u001b[0m \u001b[31m4.6 MB/s\u001b[0m eta \u001b[36m0:00:00\u001b[0m\n",
            "\u001b[?25h  Preparing metadata (setup.py) ... \u001b[?25l\u001b[?25hdone\n",
            "Collecting py4j==0.10.9.5\n",
            "  Downloading py4j-0.10.9.5-py2.py3-none-any.whl (199 kB)\n",
            "\u001b[2K     \u001b[90m━━━━━━━━━━━━━━━━━━━━━━━━━━━━━━━━━━━━━━\u001b[0m \u001b[32m199.7/199.7 KB\u001b[0m \u001b[31m14.6 MB/s\u001b[0m eta \u001b[36m0:00:00\u001b[0m\n",
            "\u001b[?25hBuilding wheels for collected packages: pyspark\n",
            "  Building wheel for pyspark (setup.py) ... \u001b[?25l\u001b[?25hdone\n",
            "  Created wheel for pyspark: filename=pyspark-3.3.1-py2.py3-none-any.whl size=281845512 sha256=b7c913bc9c46bd872d2ec6fd428861f5d476ecb870df608819b57e8bedf4b3f5\n",
            "  Stored in directory: /root/.cache/pip/wheels/43/dc/11/ec201cd671da62fa9c5cc77078235e40722170ceba231d7598\n",
            "Successfully built pyspark\n",
            "Installing collected packages: py4j, pyspark\n",
            "Successfully installed py4j-0.10.9.5 pyspark-3.3.1\n",
            "Looking in indexes: https://pypi.org/simple, https://us-python.pkg.dev/colab-wheels/public/simple/\n",
            "Collecting findspark\n",
            "  Downloading findspark-2.0.1-py2.py3-none-any.whl (4.4 kB)\n",
            "Installing collected packages: findspark\n",
            "Successfully installed findspark-2.0.1\n",
            "Looking in indexes: https://pypi.org/simple, https://us-python.pkg.dev/colab-wheels/public/simple/\n",
            "Collecting unidecode\n",
            "  Downloading Unidecode-1.3.6-py3-none-any.whl (235 kB)\n",
            "\u001b[2K     \u001b[90m━━━━━━━━━━━━━━━━━━━━━━━━━━━━━━━━━━━━━━━\u001b[0m \u001b[32m235.9/235.9 KB\u001b[0m \u001b[31m5.2 MB/s\u001b[0m eta \u001b[36m0:00:00\u001b[0m\n",
            "\u001b[?25hInstalling collected packages: unidecode\n",
            "Successfully installed unidecode-1.3.6\n"
          ]
        }
      ]
    },
    {
      "cell_type": "markdown",
      "source": [
        "## Checking informatino session"
      ],
      "metadata": {
        "id": "z2CbVpvj-nT1"
      }
    },
    {
      "cell_type": "code",
      "source": [
        "import pandas as pd\n",
        "import pyspark\n",
        "\n",
        "import findspark\n",
        "findspark.init()"
      ],
      "metadata": {
        "id": "LFcLG0zhIFoz"
      },
      "execution_count": 25,
      "outputs": []
    },
    {
      "cell_type": "code",
      "source": [
        "# Import SparkSession\n",
        "from pyspark.sql import SparkSession\n",
        "# Create a Spark Session\n",
        "spark = SparkSession.builder.master(\"local[*]\").getOrCreate()\n",
        "# Check Spark Session Information\n",
        "print(spark)"
      ],
      "metadata": {
        "colab": {
          "base_uri": "https://localhost:8080/"
        },
        "id": "xm-zCwWR-sWy",
        "outputId": "bcdfe211-daf9-4b62-cc61-bfb048218353"
      },
      "execution_count": 26,
      "outputs": [
        {
          "output_type": "stream",
          "name": "stdout",
          "text": [
            "<pyspark.sql.session.SparkSession object at 0x7fd65d63ac10>\n"
          ]
        }
      ]
    },
    {
      "cell_type": "code",
      "source": [
        "from pyspark import SparkContext\n",
        "from pyspark.sql import SQLContext \n",
        "\n",
        "s_context = SparkContext.getOrCreate()\n",
        "#s_context = SparkContext(\"local\", \"existencia_colmenas\")\n",
        "sql = SQLContext(s_context)"
      ],
      "metadata": {
        "id": "bZe0cFrR1yKE",
        "colab": {
          "base_uri": "https://localhost:8080/"
        },
        "outputId": "47e026c1-7e17-45f0-f776-e89ddbe27e5d"
      },
      "execution_count": 27,
      "outputs": [
        {
          "output_type": "stream",
          "name": "stderr",
          "text": [
            "/usr/local/lib/python3.8/dist-packages/pyspark/sql/context.py:112: FutureWarning: Deprecated in 3.0.0. Use SparkSession.builder.getOrCreate() instead.\n",
            "  warnings.warn(\n"
          ]
        }
      ]
    },
    {
      "cell_type": "markdown",
      "source": [
        "## Reading Excel files"
      ],
      "metadata": {
        "id": "YqiKcDajZqK0"
      }
    },
    {
      "cell_type": "code",
      "source": [
        "import os\n",
        "\n",
        "class FileReader:\n",
        "  def __init__(self, path:str):\n",
        "    self.path = path\n",
        "    self.list_f = []\n",
        "    self.collect_files()\n",
        "  \n",
        "  def collect_files(self):\n",
        "    # Get the list of all files and directories\n",
        "    self.list_f = os.listdir(self.path)\n",
        "    self.list_f = [ self.path +'/'+ x for x in self.list_f ]\n",
        "\n",
        "  def show_files(self):\n",
        "    for x in range(len(self.list_f)):\n",
        "      print(x+1, \"  \", self.list_f[x])"
      ],
      "metadata": {
        "id": "JSRzbYMLZvCM"
      },
      "execution_count": 13,
      "outputs": []
    },
    {
      "cell_type": "code",
      "source": [
        "folder = FileReader(\"./data_income\")\n",
        "folder.show_files()"
      ],
      "metadata": {
        "colab": {
          "base_uri": "https://localhost:8080/"
        },
        "id": "QAsWQ7osZ6OU",
        "outputId": "2d855f54-b6c2-4c28-db1e-bf16d9a16db1"
      },
      "execution_count": 19,
      "outputs": [
        {
          "output_type": "stream",
          "name": "stdout",
          "text": [
            "1    ./data_income/numero-superficie-de-upa-forestal-regional-comunal.xlsx\n",
            "2    ./data_income/numero-personas-administradoras.xlsx\n",
            "3    ./data_income/numero-superficie-de-upa-bosque-nativo-regional-comunal.xlsx\n",
            "4    ./data_income/superficie-categoría-cultivo-región-comuna.xlsx\n",
            "5    ./data_income/numero-superficie-de-upa-frutales-regional-comunal.xlsx\n",
            "6    ./data_income/tamaño-upa-región-comuna.xlsx\n",
            "7    ./data_income/existencias-animales.xlsx\n",
            "8    ./data_income/actividad-principal-región.xlsx\n",
            "9    ./data_income/01_numero_superficie_de_upa_censadas_regional-xlsx.xlsx\n",
            "10    ./data_income/numero-superficie-de-upa-aire-libre-bajo-cubierta-regional-comunal.xlsx\n",
            "11    ./data_income/numero-upa-orientación-colmenas.xlsx\n",
            "12    ./data_income/tipo-gestión-región-comuna.xlsx\n",
            "13    ./data_income/numero-upa-practicas-mejoramiento-suelo.xlsx\n",
            "14    ./data_income/superficie-principal-sistema-riego.xlsx\n",
            "15    ./data_income/numero-productores-pueblos-originarios.xlsx\n",
            "16    ./data_income/numero-de-upa-y-superficie-por-categoría-de-uso-del-suelo.xlsx\n",
            "17    ./data_income/numero-productores-tramos-edad.xlsx\n",
            "18    ./data_income/numero-superficie-de-upa-riego-secano-regional-comunal.xlsx\n",
            "19    ./data_income/numero-persona-natural-tipo-tenencia.xlsx\n",
            "20    ./data_income/existencias-colmenas.xlsx\n",
            "21    ./data_income/trabajo-agrícola.xlsx\n"
          ]
        }
      ]
    },
    {
      "cell_type": "markdown",
      "source": [
        "## 3. Reading data"
      ],
      "metadata": {
        "id": "HOkuaK96Yj9U"
      }
    },
    {
      "cell_type": "code",
      "source": [
        "from pyspark.sql import functions as F\n",
        "from functools import reduce\n",
        "import numpy as np\n",
        "import unidecode\n",
        "\n",
        "\n",
        "\n",
        "class spark_dataframe:\n",
        "  def __init__(self, path_origin:str, path_export:str):\n",
        "    \"\"\"Standardising all data types from pandas to String for spark\"\"\"\n",
        "    df = pd.read_excel(path_origin, sheet_name=0)\n",
        "    df = df.astype(str)\n",
        "    self.df_spark = sql.createDataFrame(df)\n",
        "    self.df_spark.show()\n",
        "    self.path_export = path_export\n",
        "    self.path_origin = path_origin\n",
        "\n",
        "  def remove_nan(self):\n",
        "    \"\"\"Replace nan with Null\"\"\"\n",
        "    self.df_spark = self.df_spark.replace('nan', None)\n",
        "    self.df_spark.show()\n",
        "  \n",
        "  def remove_comments(self):\n",
        "    \"\"\"Drop rows with null values on selected columns\n",
        "       ---Removing comments---\"\"\"\n",
        "    columns = self.df_spark.columns\n",
        "    self.df_spark = self.df_spark.na.drop(\n",
        "                  subset=columns[2:],how=\"all\"\n",
        "                )\n",
        "    self.df_spark.show(12)\n",
        "\n",
        "  def remove_empty_column(self):\n",
        "    \"\"\" Drop columns with null values\"\"\"\n",
        "    null_counts = self.df_spark.select(\n",
        "                    [\n",
        "                        F.count(\n",
        "                            F.when(\n",
        "                                F.col(a).isNull(), a\n",
        "                                )\n",
        "                            ).alias(a) \n",
        "                        for a in self.df_spark.columns\n",
        "                    ]\n",
        "                  ).collect()[0].asDict()\n",
        "\n",
        "    to_delete = [ p for p, u in null_counts.items() if u == self.df_spark.count() ]\n",
        "\n",
        "    self.df_spark = self.df_spark.drop(*to_delete)\n",
        "    self.df_spark.show(truncate=True)\n",
        "  \n",
        "  def get_header_dataframe(self):\n",
        "    \"\"\"Getting those columns with null field (in other words, headers)\"\"\"\n",
        "    cols = [F.col(c) for c in self.df_spark.columns]\n",
        "    filter_expr = reduce(\n",
        "        lambda a, b: a | b.isNull(), \n",
        "        cols[1:], \n",
        "        cols[0].isNull()\n",
        "        )\n",
        "    head_df = self.df_spark.filter(filter_expr)\n",
        "\n",
        "    if head_df.isEmpty():\n",
        "      expr = [F.first(col).alias(col) for col in self.df_spark.columns]\n",
        "      head_df = self.df_spark.agg(*expr)\n",
        "\n",
        "      \"\"\" Removing first row\"\"\"\n",
        "      self.df_spark = spark.createDataFrame(self.df_spark.tail(self.df_spark.count()-1), self.df_spark.schema)\n",
        "\n",
        "    \n",
        "    head_df.show(truncate=False)\n",
        "\n",
        "    return head_df\n",
        "  ################################################################################################################\n",
        "  def filling_data(self, multi_array): \n",
        "    for row in multi_array:\n",
        "      last_value=None\n",
        "      for i in range(len(row)):\n",
        "        if ( row[i]==None and i>0 ):\n",
        "          row[i] = last_value\n",
        "        else:\n",
        "          last_value = row[i]\n",
        "    return multi_array\n",
        "\n",
        "  def data_normalization(self, xl_array):  \n",
        "    \"\"\"It will swap: uppercase to lowercase, \n",
        "    blanckspace to underscore, and other\"\"\"\n",
        "    xl_array = np.char.lower(xl_array)\n",
        "    xl_array = np.char.strip(xl_array)\n",
        "    xl_array = np.char.replace(xl_array, \"-\", \"\")\n",
        "    xl_array = np.char.replace(xl_array, \"  \", \" \")\n",
        "    xl_array = np.char.replace(xl_array, \" \", \"_\")\n",
        "    xl_array = np.char.replace(xl_array, \"none\", \"\")\n",
        "    xl_array = np.char.replace(xl_array, \",\", \"\")\n",
        "    xl_array = np.char.replace(xl_array, \"\\n\", \"_\")\n",
        "    xl_array = np.char.replace(xl_array, \"(\", \"\")\n",
        "    xl_array = np.char.replace(xl_array, \")\", \"\")\n",
        "    ##self.xl_array = np.char.replace(self.xl_array, \".\", \"\")\n",
        "    ##self.xl_array = np.char.replace(self.xl_array, \",\", \"\")\n",
        "    return xl_array\n",
        "\n",
        "  # Removing non ascii and special characteres in columns\n",
        "  def ascii_ignore(self, x):\n",
        "    return unidecode.unidecode(x)\n",
        "\n",
        "  # Mergin columns to unique ones\n",
        "  def mergin_rows(self, array):\n",
        "    a = []\n",
        "    for row in array:\n",
        "      a.append(np.char.array(row))\n",
        "    b =np.char.array(0)\n",
        "    for x in a:\n",
        "      b = b + \"__\" +x\n",
        "    b = b.replace('0___', '')\n",
        "    b = b.replace('0_', '')\n",
        "    b = [ self.ascii_ignore(x) for x in b ]\n",
        "    return b\n",
        "  ################################################################################################################\n",
        "  \n",
        "  def get_header_np(self):\n",
        "    header_df = self.get_header_dataframe()\n",
        "    header_np = np.array(header_df.select( header_df.columns ).collect())\n",
        "    header_np = self.mergin_rows(self.data_normalization(self.filling_data(header_np).astype(str)))\n",
        "    self.header_np = header_np\n",
        "\n",
        "  def remove_any_null_rows(self):\n",
        "    \"\"\"removing whatever rows that contains null field\"\"\"\n",
        "    self.df_spark = self.df_spark.na.drop(how=\"any\")\n",
        "    self.df_spark.show(truncate=False)\n",
        "\n",
        "  def Establishing_header(self):\n",
        "    self.get_header_np()\n",
        "    self.df_spark = self.df_spark.toDF(*self.header_np)\n",
        "    self.df_spark.show(truncate=False,n=10)\n",
        "\n",
        "  def export_to_csv(self):\n",
        "    self.df_spark.write.options(header='True', delimiter=',').format(\"csv\").mode('overwrite').save(self.path_export + self.path_origin.split('/')[-1].split('.')[0] )\n"
      ],
      "metadata": {
        "id": "ST3U3YTccJ9M"
      },
      "execution_count": 87,
      "outputs": []
    },
    {
      "cell_type": "code",
      "source": [
        "first = spark_dataframe(path_origin=folder.list_f[0], path_export=\"./data_outcome/\")\n",
        "first.remove_nan()\n",
        "first.remove_comments()\n",
        "first.remove_empty_column()\n",
        "first.remove_any_null_rows()\n",
        "first.Establishing_header()\n",
        "first.export_to_csv()\n"
      ],
      "metadata": {
        "colab": {
          "base_uri": "https://localhost:8080/"
        },
        "id": "KotIfN-jceCr",
        "outputId": "be65894c-2277-4f49-9e2e-1dbd8d2489df"
      },
      "execution_count": 90,
      "outputs": [
        {
          "output_type": "stream",
          "name": "stdout",
          "text": [
            "+----------+--------------------+--------------+--------------------+--------------------+--------------------+\n",
            "|Unnamed: 0|          Unnamed: 1|    Unnamed: 2|          Unnamed: 3|          Unnamed: 4|          Unnamed: 5|\n",
            "+----------+--------------------+--------------+--------------------+--------------------+--------------------+\n",
            "|       nan|9. Número y super...|           nan|                 nan|                 nan|                 nan|\n",
            "|       nan|                 nan|           nan|                 nan|                 nan|                 nan|\n",
            "|       nan|Total Nacional - ...|   Comuna 4 ,5|           Especie 6|Total\\nNúmero de ...|Total\\nSuperficie...|\n",
            "|       nan|      Total Nacional|Total Nacional|               Total|               30364|   2068400.835026186|\n",
            "|       nan|      Total Nacional|Total Nacional|      Sin clasificar|                 405|     2900.9570000005|\n",
            "|       nan|      Total Nacional|Total Nacional|              Acacia|                 163|              4354.5|\n",
            "|       nan|      Total Nacional|Total Nacional|               Álamo|                 310|   6201.173000008826|\n",
            "|       nan|      Total Nacional|Total Nacional|               Aromo|                 850|   4691.985000003902|\n",
            "|       nan|      Total Nacional|Total Nacional|         Atriplex sp|                  83|           28656.259|\n",
            "|       nan|      Total Nacional|Total Nacional|Eucalipto Blanco ...|               16386|    389138.293983484|\n",
            "|       nan|      Total Nacional|Total Nacional|   Eucalyptus Nitens|                3845|   262139.1989939409|\n",
            "|       nan|      Total Nacional|Total Nacional|Pino Ponderosa (P...|                 993|   29959.10900000136|\n",
            "|       nan|      Total Nacional|Total Nacional|Pino Radiata o In...|                9040|   1200048.666048861|\n",
            "|       nan|      Total Nacional|Total Nacional|Pino Oregón (Pseu...|                 945|   19076.60999993948|\n",
            "|       nan|      Total Nacional|Total Nacional|              Coigüe|                 120|            2876.893|\n",
            "|       nan|      Total Nacional|Total Nacional|             Quillay|                  93|            1314.914|\n",
            "|       nan|      Total Nacional|Total Nacional|               Raulí|                  69|            2103.655|\n",
            "|       nan|      Total Nacional|Total Nacional|            Tamarugo|                  17|           24956.312|\n",
            "|       nan|      Total Nacional|Total Nacional|Otras Especies Ex...|                2409|   44547.38599994696|\n",
            "|       nan|      Total Nacional|Total Nacional|     Otras Coníferas|                  71|   10566.84000000215|\n",
            "+----------+--------------------+--------------+--------------------+--------------------+--------------------+\n",
            "only showing top 20 rows\n",
            "\n",
            "+----------+--------------------+--------------+--------------------+--------------------+--------------------+\n",
            "|Unnamed: 0|          Unnamed: 1|    Unnamed: 2|          Unnamed: 3|          Unnamed: 4|          Unnamed: 5|\n",
            "+----------+--------------------+--------------+--------------------+--------------------+--------------------+\n",
            "|      null|9. Número y super...|          null|                null|                null|                null|\n",
            "|      null|                null|          null|                null|                null|                null|\n",
            "|      null|Total Nacional - ...|   Comuna 4 ,5|           Especie 6|Total\\nNúmero de ...|Total\\nSuperficie...|\n",
            "|      null|      Total Nacional|Total Nacional|               Total|               30364|   2068400.835026186|\n",
            "|      null|      Total Nacional|Total Nacional|      Sin clasificar|                 405|     2900.9570000005|\n",
            "|      null|      Total Nacional|Total Nacional|              Acacia|                 163|              4354.5|\n",
            "|      null|      Total Nacional|Total Nacional|               Álamo|                 310|   6201.173000008826|\n",
            "|      null|      Total Nacional|Total Nacional|               Aromo|                 850|   4691.985000003902|\n",
            "|      null|      Total Nacional|Total Nacional|         Atriplex sp|                  83|           28656.259|\n",
            "|      null|      Total Nacional|Total Nacional|Eucalipto Blanco ...|               16386|    389138.293983484|\n",
            "|      null|      Total Nacional|Total Nacional|   Eucalyptus Nitens|                3845|   262139.1989939409|\n",
            "|      null|      Total Nacional|Total Nacional|Pino Ponderosa (P...|                 993|   29959.10900000136|\n",
            "|      null|      Total Nacional|Total Nacional|Pino Radiata o In...|                9040|   1200048.666048861|\n",
            "|      null|      Total Nacional|Total Nacional|Pino Oregón (Pseu...|                 945|   19076.60999993948|\n",
            "|      null|      Total Nacional|Total Nacional|              Coigüe|                 120|            2876.893|\n",
            "|      null|      Total Nacional|Total Nacional|             Quillay|                  93|            1314.914|\n",
            "|      null|      Total Nacional|Total Nacional|               Raulí|                  69|            2103.655|\n",
            "|      null|      Total Nacional|Total Nacional|            Tamarugo|                  17|           24956.312|\n",
            "|      null|      Total Nacional|Total Nacional|Otras Especies Ex...|                2409|   44547.38599994696|\n",
            "|      null|      Total Nacional|Total Nacional|     Otras Coníferas|                  71|   10566.84000000215|\n",
            "+----------+--------------------+--------------+--------------------+--------------------+--------------------+\n",
            "only showing top 20 rows\n",
            "\n",
            "+----------+--------------------+--------------+--------------------+--------------------+--------------------+\n",
            "|Unnamed: 0|          Unnamed: 1|    Unnamed: 2|          Unnamed: 3|          Unnamed: 4|          Unnamed: 5|\n",
            "+----------+--------------------+--------------+--------------------+--------------------+--------------------+\n",
            "|      null|Total Nacional - ...|   Comuna 4 ,5|           Especie 6|Total\\nNúmero de ...|Total\\nSuperficie...|\n",
            "|      null|      Total Nacional|Total Nacional|               Total|               30364|   2068400.835026186|\n",
            "|      null|      Total Nacional|Total Nacional|      Sin clasificar|                 405|     2900.9570000005|\n",
            "|      null|      Total Nacional|Total Nacional|              Acacia|                 163|              4354.5|\n",
            "|      null|      Total Nacional|Total Nacional|               Álamo|                 310|   6201.173000008826|\n",
            "|      null|      Total Nacional|Total Nacional|               Aromo|                 850|   4691.985000003902|\n",
            "|      null|      Total Nacional|Total Nacional|         Atriplex sp|                  83|           28656.259|\n",
            "|      null|      Total Nacional|Total Nacional|Eucalipto Blanco ...|               16386|    389138.293983484|\n",
            "|      null|      Total Nacional|Total Nacional|   Eucalyptus Nitens|                3845|   262139.1989939409|\n",
            "|      null|      Total Nacional|Total Nacional|Pino Ponderosa (P...|                 993|   29959.10900000136|\n",
            "|      null|      Total Nacional|Total Nacional|Pino Radiata o In...|                9040|   1200048.666048861|\n",
            "|      null|      Total Nacional|Total Nacional|Pino Oregón (Pseu...|                 945|   19076.60999993948|\n",
            "+----------+--------------------+--------------+--------------------+--------------------+--------------------+\n",
            "only showing top 12 rows\n",
            "\n",
            "+--------------------+--------------+--------------------+--------------------+--------------------+\n",
            "|          Unnamed: 1|    Unnamed: 2|          Unnamed: 3|          Unnamed: 4|          Unnamed: 5|\n",
            "+--------------------+--------------+--------------------+--------------------+--------------------+\n",
            "|Total Nacional - ...|   Comuna 4 ,5|           Especie 6|Total\\nNúmero de ...|Total\\nSuperficie...|\n",
            "|      Total Nacional|Total Nacional|               Total|               30364|   2068400.835026186|\n",
            "|      Total Nacional|Total Nacional|      Sin clasificar|                 405|     2900.9570000005|\n",
            "|      Total Nacional|Total Nacional|              Acacia|                 163|              4354.5|\n",
            "|      Total Nacional|Total Nacional|               Álamo|                 310|   6201.173000008826|\n",
            "|      Total Nacional|Total Nacional|               Aromo|                 850|   4691.985000003902|\n",
            "|      Total Nacional|Total Nacional|         Atriplex sp|                  83|           28656.259|\n",
            "|      Total Nacional|Total Nacional|Eucalipto Blanco ...|               16386|    389138.293983484|\n",
            "|      Total Nacional|Total Nacional|   Eucalyptus Nitens|                3845|   262139.1989939409|\n",
            "|      Total Nacional|Total Nacional|Pino Ponderosa (P...|                 993|   29959.10900000136|\n",
            "|      Total Nacional|Total Nacional|Pino Radiata o In...|                9040|   1200048.666048861|\n",
            "|      Total Nacional|Total Nacional|Pino Oregón (Pseu...|                 945|   19076.60999993948|\n",
            "|      Total Nacional|Total Nacional|              Coigüe|                 120|            2876.893|\n",
            "|      Total Nacional|Total Nacional|             Quillay|                  93|            1314.914|\n",
            "|      Total Nacional|Total Nacional|               Raulí|                  69|            2103.655|\n",
            "|      Total Nacional|Total Nacional|            Tamarugo|                  17|           24956.312|\n",
            "|      Total Nacional|Total Nacional|Otras Especies Ex...|                2409|   44547.38599994696|\n",
            "|      Total Nacional|Total Nacional|     Otras Coníferas|                  71|   10566.84000000215|\n",
            "|      Total Nacional|Total Nacional|Otras Especies Na...|                 674|   31399.92799999742|\n",
            "|      Total Nacional|Total Nacional|Especie Nativa y ...|                 442|            3468.155|\n",
            "+--------------------+--------------+--------------------+--------------------+--------------------+\n",
            "only showing top 20 rows\n",
            "\n",
            "+-----------------------+--------------+--------------------------------------+-----------------------+------------------------------+\n",
            "|Unnamed: 1             |Unnamed: 2    |Unnamed: 3                            |Unnamed: 4             |Unnamed: 5                    |\n",
            "+-----------------------+--------------+--------------------------------------+-----------------------+------------------------------+\n",
            "|Total Nacional - Región|Comuna 4 ,5   |Especie 6                             |Total\\nNúmero de UPA7,8|Total\\nSuperficie cultivo (ha)|\n",
            "|Total Nacional         |Total Nacional|Total                                 |30364                  |2068400.835026186             |\n",
            "|Total Nacional         |Total Nacional|Sin clasificar                        |405                    |2900.9570000005               |\n",
            "|Total Nacional         |Total Nacional|Acacia                                |163                    |4354.5                        |\n",
            "|Total Nacional         |Total Nacional|Álamo                                 |310                    |6201.173000008826             |\n",
            "|Total Nacional         |Total Nacional|Aromo                                 |850                    |4691.985000003902             |\n",
            "|Total Nacional         |Total Nacional|Atriplex sp                           |83                     |28656.259                     |\n",
            "|Total Nacional         |Total Nacional|Eucalipto Blanco (Eucalyptus Globulus)|16386                  |389138.293983484              |\n",
            "|Total Nacional         |Total Nacional|Eucalyptus Nitens                     |3845                   |262139.1989939409             |\n",
            "|Total Nacional         |Total Nacional|Pino Ponderosa (Pinus Ponderosa)      |993                    |29959.10900000136             |\n",
            "|Total Nacional         |Total Nacional|Pino Radiata o Insigne (Pinus Radiata)|9040                   |1200048.666048861             |\n",
            "|Total Nacional         |Total Nacional|Pino Oregón (Pseudotsuga Menziesii)   |945                    |19076.60999993948             |\n",
            "|Total Nacional         |Total Nacional|Coigüe                                |120                    |2876.893                      |\n",
            "|Total Nacional         |Total Nacional|Quillay                               |93                     |1314.914                      |\n",
            "|Total Nacional         |Total Nacional|Raulí                                 |69                     |2103.655                      |\n",
            "|Total Nacional         |Total Nacional|Tamarugo                              |17                     |24956.312                     |\n",
            "|Total Nacional         |Total Nacional|Otras Especies Exóticas               |2409                   |44547.38599994696             |\n",
            "|Total Nacional         |Total Nacional|Otras Coníferas                       |71                     |10566.84000000215             |\n",
            "|Total Nacional         |Total Nacional|Otras Especies Nativas                |674                    |31399.92799999742             |\n",
            "|Total Nacional         |Total Nacional|Especie Nativa y Especie Exótica      |442                    |3468.155                      |\n",
            "+-----------------------+--------------+--------------------------------------+-----------------------+------------------------------+\n",
            "only showing top 20 rows\n",
            "\n",
            "+-----------------------+-----------+----------+-----------------------+------------------------------+\n",
            "|Unnamed: 1             |Unnamed: 2 |Unnamed: 3|Unnamed: 4             |Unnamed: 5                    |\n",
            "+-----------------------+-----------+----------+-----------------------+------------------------------+\n",
            "|Total Nacional - Región|Comuna 4 ,5|Especie 6 |Total\\nNúmero de UPA7,8|Total\\nSuperficie cultivo (ha)|\n",
            "+-----------------------+-----------+----------+-----------------------+------------------------------+\n",
            "\n",
            "+---------------------+--------------+--------------------------------------+---------------------+---------------------------+\n",
            "|total_nacional_region|comuna_4_5    |especie_6                             |total_numero_de_upa78|total_superficie_cultivo_ha|\n",
            "+---------------------+--------------+--------------------------------------+---------------------+---------------------------+\n",
            "|Total Nacional       |Total Nacional|Total                                 |30364                |2068400.835026186          |\n",
            "|Total Nacional       |Total Nacional|Sin clasificar                        |405                  |2900.9570000005            |\n",
            "|Total Nacional       |Total Nacional|Acacia                                |163                  |4354.5                     |\n",
            "|Total Nacional       |Total Nacional|Álamo                                 |310                  |6201.173000008826          |\n",
            "|Total Nacional       |Total Nacional|Aromo                                 |850                  |4691.985000003902          |\n",
            "|Total Nacional       |Total Nacional|Atriplex sp                           |83                   |28656.259                  |\n",
            "|Total Nacional       |Total Nacional|Eucalipto Blanco (Eucalyptus Globulus)|16386                |389138.293983484           |\n",
            "|Total Nacional       |Total Nacional|Eucalyptus Nitens                     |3845                 |262139.1989939409          |\n",
            "|Total Nacional       |Total Nacional|Pino Ponderosa (Pinus Ponderosa)      |993                  |29959.10900000136          |\n",
            "|Total Nacional       |Total Nacional|Pino Radiata o Insigne (Pinus Radiata)|9040                 |1200048.666048861          |\n",
            "+---------------------+--------------+--------------------------------------+---------------------+---------------------------+\n",
            "only showing top 10 rows\n",
            "\n"
          ]
        }
      ]
    }
  ]
}