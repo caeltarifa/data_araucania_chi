{
  "nbformat": 4,
  "nbformat_minor": 0,
  "metadata": {
    "colab": {
      "provenance": [],
      "authorship_tag": "ABX9TyMR8JYi/RfV6NMqC2s/xsV6"
    },
    "kernelspec": {
      "name": "python3",
      "display_name": "Python 3"
    },
    "language_info": {
      "name": "python"
    }
  },
  "cells": [
    {
      "cell_type": "markdown",
      "source": [
        "# A. Polar dataframe"
      ],
      "metadata": {
        "id": "iYuGcNa21Sut"
      }
    },
    {
      "cell_type": "code",
      "source": [
        "!pip install polars\n",
        "!pip install xlsx2csv\n",
        "#polars-0.15.8\n",
        "#xlsx2csv-0.8.0"
      ],
      "metadata": {
        "id": "i_2UrXxNTXaA"
      },
      "execution_count": null,
      "outputs": []
    },
    {
      "cell_type": "code",
      "source": [
        "import polars as pl\n",
        "excel_file = \"./existencias-colmenas.xlsx\"\n",
        "a = pl.read_excel(\n",
        "      file=excel_file, \n",
        "      sheet_id=0, \n",
        "      xlsx2csv_options = {\n",
        "          \"linedelimitator\":\"\\n\"\n",
        "      }, \n",
        "    )\n",
        "\n",
        "print(a)"
      ],
      "metadata": {
        "colab": {
          "base_uri": "https://localhost:8080/"
        },
        "id": "EarbpzbFS4QU",
        "outputId": "2500df1b-c57b-4a4f-966d-fe466a6d7d2b"
      },
      "execution_count": 99,
      "outputs": [
        {
          "output_type": "stream",
          "name": "stdout",
          "text": [
            "{'13': shape: (28, 7)\n",
            "┌──────┬───────────────┬───────────────┬──────────────┬──────────────┬──────────────┬──────────────┐\n",
            "│      ┆ 13.  Número   ┆ _duplicated_0 ┆ _duplicated_ ┆ _duplicated_ ┆ _duplicated_ ┆ _duplicated_ │\n",
            "│ ---  ┆ de Unidades   ┆ ---           ┆ 1            ┆ 2            ┆ 3            ┆ 4            │\n",
            "│ str  ┆ Producti...   ┆ str           ┆ ---          ┆ ---          ┆ ---          ┆ ---          │\n",
            "│      ┆ ---           ┆               ┆ str          ┆ str          ┆ str          ┆ str          │\n",
            "│      ┆ str           ┆               ┆              ┆              ┆              ┆              │\n",
            "╞══════╪═══════════════╪═══════════════╪══════════════╪══════════════╪══════════════╪══════════════╡\n",
            "│ null ┆ null          ┆ null          ┆ null         ┆ Tipo de      ┆ null         ┆ null         │\n",
            "│      ┆               ┆               ┆              ┆ Colmenas     ┆              ┆              │\n",
            "├╌╌╌╌╌╌┼╌╌╌╌╌╌╌╌╌╌╌╌╌╌╌┼╌╌╌╌╌╌╌╌╌╌╌╌╌╌╌┼╌╌╌╌╌╌╌╌╌╌╌╌╌╌┼╌╌╌╌╌╌╌╌╌╌╌╌╌╌┼╌╌╌╌╌╌╌╌╌╌╌╌╌╌┼╌╌╌╌╌╌╌╌╌╌╌╌╌╌┤\n",
            "│ null ┆ Total         ┆ Total         ┆ null         ┆ Colmenas     ┆ null         ┆ Colmenas     │\n",
            "│      ┆ Nacional -    ┆               ┆              ┆ Modernas 5   ┆              ┆ Rústicas 6   │\n",
            "│      ┆ Región        ┆               ┆              ┆              ┆              ┆              │\n",
            "├╌╌╌╌╌╌┼╌╌╌╌╌╌╌╌╌╌╌╌╌╌╌┼╌╌╌╌╌╌╌╌╌╌╌╌╌╌╌┼╌╌╌╌╌╌╌╌╌╌╌╌╌╌┼╌╌╌╌╌╌╌╌╌╌╌╌╌╌┼╌╌╌╌╌╌╌╌╌╌╌╌╌╌┼╌╌╌╌╌╌╌╌╌╌╌╌╌╌┤\n",
            "│ null ┆ null          ┆ Número de     ┆ Número de    ┆ Número de    ┆ Número de    ┆ Número de    │\n",
            "│      ┆               ┆ UPA3,4        ┆ colmenas     ┆ UPA4         ┆ colmenas     ┆ UPA4         │\n",
            "├╌╌╌╌╌╌┼╌╌╌╌╌╌╌╌╌╌╌╌╌╌╌┼╌╌╌╌╌╌╌╌╌╌╌╌╌╌╌┼╌╌╌╌╌╌╌╌╌╌╌╌╌╌┼╌╌╌╌╌╌╌╌╌╌╌╌╌╌┼╌╌╌╌╌╌╌╌╌╌╌╌╌╌┼╌╌╌╌╌╌╌╌╌╌╌╌╌╌┤\n",
            "│ null ┆ Total         ┆ 5909          ┆ 333037       ┆ 4997         ┆ 306758       ┆ 995          │\n",
            "│      ┆ Nacional      ┆               ┆              ┆              ┆              ┆              │\n",
            "├╌╌╌╌╌╌┼╌╌╌╌╌╌╌╌╌╌╌╌╌╌╌┼╌╌╌╌╌╌╌╌╌╌╌╌╌╌╌┼╌╌╌╌╌╌╌╌╌╌╌╌╌╌┼╌╌╌╌╌╌╌╌╌╌╌╌╌╌┼╌╌╌╌╌╌╌╌╌╌╌╌╌╌┼╌╌╌╌╌╌╌╌╌╌╌╌╌╌┤\n",
            "│ ...  ┆ ...           ┆ ...           ┆ ...          ┆ ...          ┆ ...          ┆ ...          │\n",
            "├╌╌╌╌╌╌┼╌╌╌╌╌╌╌╌╌╌╌╌╌╌╌┼╌╌╌╌╌╌╌╌╌╌╌╌╌╌╌┼╌╌╌╌╌╌╌╌╌╌╌╌╌╌┼╌╌╌╌╌╌╌╌╌╌╌╌╌╌┼╌╌╌╌╌╌╌╌╌╌╌╌╌╌┼╌╌╌╌╌╌╌╌╌╌╌╌╌╌┤\n",
            "│ null ┆ 3. La         ┆ null          ┆ null         ┆ null         ┆ null         ┆ null         │\n",
            "│      ┆ sumatoria del ┆               ┆              ┆              ┆              ┆              │\n",
            "│      ┆ número de     ┆               ┆              ┆              ┆              ┆              │\n",
            "│      ┆ UP...         ┆               ┆              ┆              ┆              ┆              │\n",
            "├╌╌╌╌╌╌┼╌╌╌╌╌╌╌╌╌╌╌╌╌╌╌┼╌╌╌╌╌╌╌╌╌╌╌╌╌╌╌┼╌╌╌╌╌╌╌╌╌╌╌╌╌╌┼╌╌╌╌╌╌╌╌╌╌╌╌╌╌┼╌╌╌╌╌╌╌╌╌╌╌╌╌╌┼╌╌╌╌╌╌╌╌╌╌╌╌╌╌┤\n",
            "│ null ┆ 4. En el      ┆ null          ┆ null         ┆ null         ┆ null         ┆ null         │\n",
            "│      ┆ marco del     ┆               ┆              ┆              ┆              ┆              │\n",
            "│      ┆ proceso de    ┆               ┆              ┆              ┆              ┆              │\n",
            "│      ┆ co...         ┆               ┆              ┆              ┆              ┆              │\n",
            "├╌╌╌╌╌╌┼╌╌╌╌╌╌╌╌╌╌╌╌╌╌╌┼╌╌╌╌╌╌╌╌╌╌╌╌╌╌╌┼╌╌╌╌╌╌╌╌╌╌╌╌╌╌┼╌╌╌╌╌╌╌╌╌╌╌╌╌╌┼╌╌╌╌╌╌╌╌╌╌╌╌╌╌┼╌╌╌╌╌╌╌╌╌╌╌╌╌╌┤\n",
            "│ null ┆ 5. Colmenas   ┆ null          ┆ null         ┆ null         ┆ null         ┆ null         │\n",
            "│      ┆ modernas: son ┆               ┆              ┆              ┆              ┆              │\n",
            "│      ┆ aquell...     ┆               ┆              ┆              ┆              ┆              │\n",
            "├╌╌╌╌╌╌┼╌╌╌╌╌╌╌╌╌╌╌╌╌╌╌┼╌╌╌╌╌╌╌╌╌╌╌╌╌╌╌┼╌╌╌╌╌╌╌╌╌╌╌╌╌╌┼╌╌╌╌╌╌╌╌╌╌╌╌╌╌┼╌╌╌╌╌╌╌╌╌╌╌╌╌╌┼╌╌╌╌╌╌╌╌╌╌╌╌╌╌┤\n",
            "│ null ┆ 6. Colmenas   ┆ null          ┆ null         ┆ null         ┆ null         ┆ null         │\n",
            "│      ┆ rústicas: son ┆               ┆              ┆              ┆              ┆              │\n",
            "│      ┆ aquell...     ┆               ┆              ┆              ┆              ┆              │\n",
            "└──────┴───────────────┴───────────────┴──────────────┴──────────────┴──────────────┴──────────────┘}\n"
          ]
        }
      ]
    },
    {
      "cell_type": "markdown",
      "source": [
        "## References\n",
        "\n",
        "> [xlsx2csv](https://github.com/dilshod/xlsx2csv)"
      ],
      "metadata": {
        "id": "gesep4rh2vRZ"
      }
    },
    {
      "cell_type": "markdown",
      "source": [
        "# C. Pandas dataframe"
      ],
      "metadata": {
        "id": "sL1sf8KT1pw5"
      }
    },
    {
      "cell_type": "code",
      "source": [
        "import polars as pl\n",
        "import pandas as pd\n",
        "\n",
        "excel_file = \"./existencias-colmenas.xlsx\"\n",
        "\n",
        "pandas_excel = pd.read_excel(excel_file,sheet_name=0, skiprows=2, )\n",
        "print(pandas_excel)"
      ],
      "metadata": {
        "colab": {
          "base_uri": "https://localhost:8080/"
        },
        "id": "zGHWj3nUYLAZ",
        "outputId": "c05fd625-c59a-4506-a5c1-374242ccdb48"
      },
      "execution_count": 101,
      "outputs": [
        {
          "output_type": "stream",
          "name": "stdout",
          "text": [
            "    Unnamed: 0                                         Unnamed: 1  \\\n",
            "0          NaN                                                NaN   \n",
            "1          NaN                            Total Nacional - Región   \n",
            "2          NaN                                                NaN   \n",
            "3          NaN                                     Total Nacional   \n",
            "4          NaN                       Región de Arica y Parinacota   \n",
            "5          NaN                                Región de Tarapacá    \n",
            "6          NaN                              Región de Antofagasta   \n",
            "7          NaN                                  Región de Atacama   \n",
            "8          NaN                                 Región de Coquimbo   \n",
            "9          NaN                               Región de Valparaíso   \n",
            "10         NaN                   Región Metropolitana de Santiago   \n",
            "11         NaN   Región del Libertador General Bernardo O'Higgins   \n",
            "12         NaN                                   Región del Maule   \n",
            "13         NaN                                    Región de Ñuble   \n",
            "14         NaN                                 Región del Biobío    \n",
            "15         NaN                             Región de La Araucanía   \n",
            "16         NaN                                 Región de Los Ríos   \n",
            "17         NaN                                Región de Los Lagos   \n",
            "18         NaN  Región de Aysén del General Carlos Ibáñez del ...   \n",
            "19         NaN     Región de Magallanes y de la Antártica Chilena   \n",
            "20         NaN                                                NaN   \n",
            "21         NaN  FUENTE: VIII Censo Agropecuario y Forestal, añ...   \n",
            "22         NaN                                             Notas:   \n",
            "23         NaN  1. UPA se refiere a la unidad económica de pro...   \n",
            "24         NaN  2. Una UPA puede estar presente en más de una ...   \n",
            "25         NaN  3. La sumatoria del número de UPA según el tip...   \n",
            "26         NaN  4. En el marco del proceso de control de divul...   \n",
            "27         NaN  5. Colmenas modernas: son aquellas de medidas ...   \n",
            "28         NaN  6. Colmenas rústicas: son aquellas sin marco m...   \n",
            "\n",
            "          Unnamed: 2          Unnamed: 3           Unnamed: 4  \\\n",
            "0                NaN                 NaN     Tipo de Colmenas   \n",
            "1              Total                 NaN  Colmenas Modernas 5   \n",
            "2   Número de UPA3,4  Número de colmenas       Número de UPA4   \n",
            "3               5909              333037                 4997   \n",
            "4                  6                  53                    5   \n",
            "5                  8                  48                    4   \n",
            "6                  7                  25                    5   \n",
            "7                 30                 359                   24   \n",
            "8                297                6448                  230   \n",
            "9                186               24658                  165   \n",
            "10               209               29572                  188   \n",
            "11               387               50291                  353   \n",
            "12               686               63887                  597   \n",
            "13               444               38936                  386   \n",
            "14               947               36048                  824   \n",
            "15              1690               38489                 1402   \n",
            "16               456               16781                  398   \n",
            "17               536               27070                  402   \n",
            "18                29                 366                   22   \n",
            "19                 1                   6                    1   \n",
            "20               NaN                 NaN                  NaN   \n",
            "21               NaN                 NaN                  NaN   \n",
            "22               NaN                 NaN                  NaN   \n",
            "23               NaN                 NaN                  NaN   \n",
            "24               NaN                 NaN                  NaN   \n",
            "25               NaN                 NaN                  NaN   \n",
            "26               NaN                 NaN                  NaN   \n",
            "27               NaN                 NaN                  NaN   \n",
            "28               NaN                 NaN                  NaN   \n",
            "\n",
            "            Unnamed: 5           Unnamed: 6          Unnamed: 7  \n",
            "0                  NaN                  NaN                 NaN  \n",
            "1                  NaN  Colmenas Rústicas 6                 NaN  \n",
            "2   Número de colmenas       Número de UPA4  Número de colmenas  \n",
            "3               306758                  995               26279  \n",
            "4                   49                    2                   4  \n",
            "5                   18                    4                  30  \n",
            "6                   21                    2                   4  \n",
            "7                  332                    6                  27  \n",
            "8                 5921                   70                 527  \n",
            "9                22541                   22                2117  \n",
            "10               29298                   23                 274  \n",
            "11               48967                   34                1324  \n",
            "12               53961                   95                9926  \n",
            "13               36789                   61                2147  \n",
            "14               33951                  130                2097  \n",
            "15               34933                  319                3556  \n",
            "16               15987                   65                 794  \n",
            "17               23666                  155                3404  \n",
            "18                 318                    7                  48  \n",
            "19                   6                    0                   0  \n",
            "20                 NaN                  NaN                 NaN  \n",
            "21                 NaN                  NaN                 NaN  \n",
            "22                 NaN                  NaN                 NaN  \n",
            "23                 NaN                  NaN                 NaN  \n",
            "24                 NaN                  NaN                 NaN  \n",
            "25                 NaN                  NaN                 NaN  \n",
            "26                 NaN                  NaN                 NaN  \n",
            "27                 NaN                  NaN                 NaN  \n",
            "28                 NaN                  NaN                 NaN  \n"
          ]
        }
      ]
    },
    {
      "cell_type": "markdown",
      "source": [
        "# B. PySpark dataframe"
      ],
      "metadata": {
        "id": "FiEOn7sp1oPA"
      }
    },
    {
      "cell_type": "code",
      "source": [
        "!pip install pyspark\n",
        "!pip install findspark"
      ],
      "metadata": {
        "colab": {
          "base_uri": "https://localhost:8080/"
        },
        "id": "Lxei0oli5ZE3",
        "outputId": "53ed48ec-de86-4b94-8b87-bbc89e282278"
      },
      "execution_count": 90,
      "outputs": [
        {
          "output_type": "stream",
          "name": "stdout",
          "text": [
            "Looking in indexes: https://pypi.org/simple, https://us-python.pkg.dev/colab-wheels/public/simple/\n",
            "Requirement already satisfied: pyspark in /usr/local/lib/python3.8/dist-packages (3.3.1)\n",
            "Requirement already satisfied: py4j==0.10.9.5 in /usr/local/lib/python3.8/dist-packages (from pyspark) (0.10.9.5)\n",
            "Looking in indexes: https://pypi.org/simple, https://us-python.pkg.dev/colab-wheels/public/simple/\n",
            "Collecting findspark\n",
            "  Downloading findspark-2.0.1-py2.py3-none-any.whl (4.4 kB)\n",
            "Installing collected packages: findspark\n",
            "Successfully installed findspark-2.0.1\n"
          ]
        }
      ]
    },
    {
      "cell_type": "markdown",
      "source": [
        "## Checking informatino session"
      ],
      "metadata": {
        "id": "z2CbVpvj-nT1"
      }
    },
    {
      "cell_type": "code",
      "source": [
        "# Import SparkSession\n",
        "from pyspark.sql import SparkSession\n",
        "# Create a Spark Session\n",
        "spark = SparkSession.builder.master(\"local[*]\").getOrCreate()\n",
        "# Check Spark Session Information\n",
        "spark"
      ],
      "metadata": {
        "id": "xm-zCwWR-sWy"
      },
      "execution_count": null,
      "outputs": []
    },
    {
      "cell_type": "code",
      "source": [
        "import pandas as pd\n",
        "\n",
        "import pyspark\n",
        "from pyspark import SparkContext\n",
        "from pyspark.sql import SQLContext \n",
        "\n",
        "s_context = SparkContext.getOrCreate()\n",
        "s_context = SparkContext(\"local\", \"existencia_colmenas\")\n",
        "sql = SQLContext(s_context)"
      ],
      "metadata": {
        "colab": {
          "base_uri": "https://localhost:8080/"
        },
        "id": "bZe0cFrR1yKE",
        "outputId": "a8306587-133f-4313-f8e0-83590e4e0628"
      },
      "execution_count": 89,
      "outputs": [
        {
          "output_type": "stream",
          "name": "stderr",
          "text": [
            "/usr/local/lib/python3.8/dist-packages/pyspark/sql/context.py:112: FutureWarning: Deprecated in 3.0.0. Use SparkSession.builder.getOrCreate() instead.\n",
            "  warnings.warn(\n"
          ]
        }
      ]
    },
    {
      "cell_type": "code",
      "source": [
        "import findspark\n",
        "findspark.init()"
      ],
      "metadata": {
        "id": "4SUTkwzP_WGj"
      },
      "execution_count": 92,
      "outputs": []
    },
    {
      "cell_type": "code",
      "source": [
        "df = pd.read_excel(\"./existencias-colmenas.xlsx\", sheet_name=0)\n",
        "\n",
        "df_spark = sql.createDataFrame(df)"
      ],
      "metadata": {
        "id": "AvXa4XuP5O2c"
      },
      "execution_count": null,
      "outputs": []
    },
    {
      "cell_type": "code",
      "source": [
        "df_spark.show()"
      ],
      "metadata": {
        "id": "Lmjlh7sS_gnm"
      },
      "execution_count": null,
      "outputs": []
    },
    {
      "cell_type": "markdown",
      "source": [
        "## D. Cleaning messy data whyqd"
      ],
      "metadata": {
        "id": "ekZJmNMcANvx"
      }
    },
    {
      "cell_type": "code",
      "source": [
        "!pip install whyqd\n",
        "#whyqd-0.6.2 \n",
        "#xlrd-2.0.1"
      ],
      "metadata": {
        "id": "8e0a9VOVQf1z"
      },
      "execution_count": 6,
      "outputs": []
    },
    {
      "cell_type": "code",
      "execution_count": null,
      "metadata": {
        "id": "VxRbeobdPnFg"
      },
      "outputs": [],
      "source": [
        "import whyqd\n",
        "SCHEMA_SOURCE = \"/full/path_to/2020_rates_data_schema.json\"\n",
        "DIRECTORY = \"/path_to/working/directory/\"\n",
        "    # Note: these links may no longer work when you follow this tutorial. Get the latest ones...\n",
        "INPUT_DATA = [\n",
        "            \"https://www.portsmouth.gov.uk/ext/documents-external/biz-ndr-properties-january-2020.xls\",\n",
        "            \"https://www.portsmouth.gov.uk/ext/documents-external/biz-ndr-reliefs-january-2020.xls\",\n",
        "            \"https://www.portsmouth.gov.uk/ext/documents-external/biz-empty-commercial-properties-january-2020.xls\"]\n",
        "method = whyqd.Method(directory=DIRECTORY, schema=SCHEMA)\n",
        "method.add_data(source=INPUT_DATA)"
      ]
    }
  ]
}